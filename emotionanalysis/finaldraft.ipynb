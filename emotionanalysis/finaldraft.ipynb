{
 "cells": [
  {
   "cell_type": "code",
   "execution_count": 1,
   "id": "25f2b814",
   "metadata": {},
   "outputs": [],
   "source": [
    "import os\n",
    "import boto3\n",
    "import re\n",
    "import sagemaker\n",
    "\n",
    "\n",
    "role = sagemaker.get_execution_role()\n",
    "region = boto3.Session().region_name\n",
    "\n",
    "# S3 bucket for training data.\n",
    "# Feel free to specify a different bucket and prefix.\n",
    "data_bucket = f\"convscraper\"\n",
    "data_prefix = \"sentiment\"\n",
    "\n",
    "\n",
    "# S3 bucket for saving code and model artifacts.\n",
    "# Feel free to specify a different bucket and prefix\n",
    "output_bucket = f\"convscraper\"\n",
    "output_prefix = \"notebooks\""
   ]
  },
  {
   "cell_type": "code",
   "execution_count": 2,
   "id": "ffbe3d5e",
   "metadata": {},
   "outputs": [],
   "source": [
    "import matplotlib"
   ]
  },
  {
   "cell_type": "code",
   "execution_count": 3,
   "id": "166bf683",
   "metadata": {},
   "outputs": [],
   "source": [
    "s3 = boto3.client(\"s3\")\n",
    "\n",
    "a19sentiment = \"dfa19sentiment.csv\"\n",
    "a20sentiment = \"dfa20sentiment.csv\"\n",
    "c19sentiment = \"dfc19sentiment.csv\"\n",
    "c20sentiment = \"dfc20sentiment.csv\"\n",
    "\n",
    "s3.download_file(data_bucket, f\"{data_prefix}/{a19sentiment}\", a19sentiment)\n",
    "s3.download_file(data_bucket, f\"{data_prefix}/{a20sentiment}\", a20sentiment)\n",
    "s3.download_file(data_bucket, f\"{data_prefix}/{c19sentiment}\", c19sentiment)\n",
    "s3.download_file(data_bucket, f\"{data_prefix}/{c20sentiment}\", c20sentiment)"
   ]
  },
  {
   "cell_type": "code",
   "execution_count": 4,
   "id": "3e5cb0c2",
   "metadata": {},
   "outputs": [],
   "source": [
    "from tqdm import tqdm"
   ]
  },
  {
   "cell_type": "code",
   "execution_count": 5,
   "id": "53e17175",
   "metadata": {},
   "outputs": [],
   "source": [
    "import pandas as pd\n",
    "\n",
    "dfa19 = pd.read_csv(a19sentiment)\n",
    "dfa20 = pd.read_csv(a20sentiment)\n",
    "dfc19 = pd.read_csv(c19sentiment)\n",
    "dfc20 = pd.read_csv(c20sentiment)"
   ]
  },
  {
   "cell_type": "code",
   "execution_count": 6,
   "id": "68d2e521",
   "metadata": {},
   "outputs": [],
   "source": [
    "dfa19.rename(columns={'Unnamed: 0': 'id'}, inplace=True)\n",
    "dfa20.rename(columns={'Unnamed: 0': 'id'}, inplace=True)"
   ]
  },
  {
   "cell_type": "code",
   "execution_count": 7,
   "id": "1593ce09",
   "metadata": {},
   "outputs": [],
   "source": [
    "del dfc19['Unnamed: 0']\n",
    "del dfc20['Unnamed: 0']"
   ]
  },
  {
   "cell_type": "code",
   "execution_count": 8,
   "id": "2fc245ba",
   "metadata": {},
   "outputs": [],
   "source": [
    "happyat19 = dfa19['title_sentiment'].value_counts()[0]\n",
    "depressedat19 = dfa19['title_sentiment'].value_counts()[1]\n",
    "\n",
    "happyat20 = dfa20['title_sentiment'].value_counts()[0]\n",
    "depressedat20 = dfa20['title_sentiment'].value_counts()[1]"
   ]
  },
  {
   "cell_type": "code",
   "execution_count": 9,
   "id": "6acef23f",
   "metadata": {},
   "outputs": [],
   "source": [
    "depressed_percentat19 = round((depressedat19/(happyat19+depressedat19))*100, 4)\n",
    "depressed_percentat20 = round((depressedat20/(happyat20+depressedat20))*100, 4)"
   ]
  },
  {
   "cell_type": "code",
   "execution_count": 10,
   "id": "9c5e372c",
   "metadata": {},
   "outputs": [],
   "source": [
    "happyab19 = dfa19['body_sentiment'].value_counts()[0]\n",
    "depressedab19 = dfa19['body_sentiment'].value_counts()[1]\n",
    "\n",
    "happyab20 = dfa20['body_sentiment'].value_counts()[0]\n",
    "depressedab20 = dfa20['body_sentiment'].value_counts()[1]"
   ]
  },
  {
   "cell_type": "code",
   "execution_count": 11,
   "id": "f2a4b931",
   "metadata": {},
   "outputs": [],
   "source": [
    "depressed_percentab19 =  round((depressedab19/(happyab19+depressedab19))*100, 4)\n",
    "depressed_percentab20 =  round((depressedab20/(happyab20+depressedab20))*100, 4)"
   ]
  },
  {
   "cell_type": "code",
   "execution_count": 12,
   "id": "e983051a",
   "metadata": {},
   "outputs": [],
   "source": [
    "happyc19 = dfc19['body_sentiment'].value_counts()[0]\n",
    "depressedc19 = dfc19['body_sentiment'].value_counts()[1]\n",
    "\n",
    "happyc20 = dfc20['body_sentiment'].value_counts()[0]\n",
    "depressedc20 = dfc20['body_sentiment'].value_counts()[1]"
   ]
  },
  {
   "cell_type": "code",
   "execution_count": 13,
   "id": "33db7c8d",
   "metadata": {},
   "outputs": [],
   "source": [
    "depressed_percentc19 = round((depressedc19/(happyc19+depressedc19))*100, 4)\n",
    "depressed_percentc20 = round((depressedc20/(happyc20+depressedc20))*100, 4)"
   ]
  },
  {
   "cell_type": "code",
   "execution_count": 14,
   "id": "8635ab8f",
   "metadata": {},
   "outputs": [
    {
     "name": "stdout",
     "output_type": "stream",
     "text": [
      "Article titles with depressed emotions in 2019: \u001b[1m40.8626%\u001b[0m\n",
      "Article titles with depressed emotions in 2020: \u001b[1m41.6038%\u001b[0m\n"
     ]
    }
   ],
   "source": [
    "print(f'Article titles with depressed emotions in 2019: \\033[1m{depressed_percentat19}%\\033[0m')\n",
    "print(f'Article titles with depressed emotions in 2020: \\033[1m{depressed_percentat20}%\\033[0m')"
   ]
  },
  {
   "cell_type": "code",
   "execution_count": 15,
   "id": "e8f080c6",
   "metadata": {},
   "outputs": [
    {
     "name": "stdout",
     "output_type": "stream",
     "text": [
      "Article bodies with depressed emotions in 2019: \u001b[1m45.9018%\u001b[0m\n",
      "Article bodies with depressed emotions in 2020: \u001b[1m45.7586%\u001b[0m\n"
     ]
    }
   ],
   "source": [
    "print(f'Article bodies with depressed emotions in 2019: \\033[1m{depressed_percentab19}%\\033[0m')\n",
    "print(f'Article bodies with depressed emotions in 2020: \\033[1m{depressed_percentab20}%\\033[0m')"
   ]
  },
  {
   "cell_type": "code",
   "execution_count": 16,
   "id": "e72729ca",
   "metadata": {},
   "outputs": [
    {
     "name": "stdout",
     "output_type": "stream",
     "text": [
      "Comments with depressed emotions in 2019: \u001b[1m40.0097%\u001b[0m\n",
      "Comments with depressed emotions in 2020: \u001b[1m40.9871%\u001b[0m\n"
     ]
    }
   ],
   "source": [
    "print(f'Comments with depressed emotions in 2019: \\033[1m{depressed_percentc19}%\\033[0m')\n",
    "print(f'Comments with depressed emotions in 2020: \\033[1m{depressed_percentc20}%\\033[0m')"
   ]
  },
  {
   "cell_type": "code",
   "execution_count": 17,
   "id": "c7989871",
   "metadata": {},
   "outputs": [
    {
     "name": "stdout",
     "output_type": "stream",
     "text": [
      "subreddit         title_sentiment\n",
      "brocku            happy              62.618\n",
      "TrentUniversity   happy              60.360\n",
      "uoguelph          happy              60.291\n",
      "ryerson           happy              60.169\n",
      "wlu               happy              60.037\n",
      "UofT              happy              59.630\n",
      "yorku             happy              59.332\n",
      "queensuniversity  happy              59.270\n",
      "CarletonU         happy              58.601\n",
      "McMaster          happy              58.532\n",
      "uwaterloo         happy              58.412\n",
      "UTM               happy              57.484\n",
      "                  depressed          42.516\n",
      "uwaterloo         depressed          41.588\n",
      "McMaster          depressed          41.468\n",
      "CarletonU         depressed          41.399\n",
      "queensuniversity  depressed          40.730\n",
      "yorku             depressed          40.668\n",
      "UofT              depressed          40.370\n",
      "wlu               depressed          39.963\n",
      "ryerson           depressed          39.831\n",
      "uoguelph          depressed          39.709\n",
      "TrentUniversity   depressed          39.640\n",
      "brocku            depressed          37.382\n",
      "Name: title_sentiment, dtype: float64\n"
     ]
    }
   ],
   "source": [
    "unititles19 = round(dfa19.groupby(['subreddit'])['title_sentiment'].value_counts(3)*100, 3).sort_values(ascending=False)\n",
    "print (f'{unititles19}')"
   ]
  },
  {
   "cell_type": "code",
   "execution_count": 18,
   "id": "6db3b1d3",
   "metadata": {},
   "outputs": [
    {
     "name": "stdout",
     "output_type": "stream",
     "text": [
      "subreddit         title_sentiment\n",
      "brocku            happy              64.727\n",
      "queensuniversity  happy              60.509\n",
      "ryerson           happy              60.071\n",
      "CarletonU         happy              59.890\n",
      "wlu               happy              59.285\n",
      "yorku             happy              58.810\n",
      "uoguelph          happy              58.491\n",
      "uwaterloo         happy              57.582\n",
      "UTM               happy              57.450\n",
      "TrentUniversity   happy              57.143\n",
      "McMaster          happy              56.484\n",
      "                  depressed          43.516\n",
      "TrentUniversity   depressed          42.857\n",
      "UTM               depressed          42.550\n",
      "uwaterloo         depressed          42.418\n",
      "uoguelph          depressed          41.509\n",
      "yorku             depressed          41.190\n",
      "wlu               depressed          40.715\n",
      "CarletonU         depressed          40.110\n",
      "ryerson           depressed          39.929\n",
      "queensuniversity  depressed          39.491\n",
      "brocku            depressed          35.273\n",
      "Name: title_sentiment, dtype: float64\n"
     ]
    }
   ],
   "source": [
    "unititles20 = round(dfa20.groupby(['subreddit'])['title_sentiment'].value_counts(3)*100, 3).sort_values(ascending=False)\n",
    "print (f'{unititles20}')"
   ]
  },
  {
   "cell_type": "code",
   "execution_count": 19,
   "id": "6e35e4ae",
   "metadata": {},
   "outputs": [
    {
     "name": "stdout",
     "output_type": "stream",
     "text": [
      "subreddit         body_sentiment\n",
      "CarletonU         depressed         66.076\n",
      "uwaterloo         depressed         58.000\n",
      "TrentUniversity   depressed         57.207\n",
      "ryerson           depressed         54.312\n",
      "queensuniversity  happy             53.090\n",
      "UTM               depressed         53.007\n",
      "uoguelph          depressed         52.209\n",
      "UofT              depressed         51.501\n",
      "wlu               happy             51.050\n",
      "yorku             depressed         50.366\n",
      "McMaster          depressed         50.334\n",
      "brocku            happy             50.202\n",
      "                  depressed         49.798\n",
      "McMaster          happy             49.666\n",
      "yorku             happy             49.634\n",
      "wlu               depressed         48.950\n",
      "UofT              happy             48.499\n",
      "uoguelph          happy             47.791\n",
      "UTM               happy             46.993\n",
      "queensuniversity  depressed         46.910\n",
      "ryerson           happy             45.688\n",
      "TrentUniversity   happy             42.793\n",
      "uwaterloo         happy             42.000\n",
      "CarletonU         happy             33.924\n",
      "Name: body_sentiment, dtype: float64\n"
     ]
    }
   ],
   "source": [
    "unibodies19 = round(dfa19.groupby(['subreddit'])['body_sentiment'].value_counts(3)*100, 3).sort_values(ascending=False)\n",
    "print (f'{unibodies19}')"
   ]
  },
  {
   "cell_type": "code",
   "execution_count": 20,
   "id": "7845fbf5",
   "metadata": {},
   "outputs": [
    {
     "name": "stdout",
     "output_type": "stream",
     "text": [
      "subreddit         body_sentiment\n",
      "CarletonU         depressed         73.535\n",
      "ryerson           depressed         66.343\n",
      "uwaterloo         depressed         57.546\n",
      "queensuniversity  depressed         54.798\n",
      "brocku            happy             54.252\n",
      "wlu               happy             52.472\n",
      "McMaster          depressed         51.702\n",
      "uoguelph          depressed         51.550\n",
      "yorku             depressed         51.467\n",
      "TrentUniversity   depressed         51.429\n",
      "UTM               depressed         50.732\n",
      "                  happy             49.268\n",
      "TrentUniversity   happy             48.571\n",
      "yorku             happy             48.533\n",
      "uoguelph          happy             48.450\n",
      "McMaster          happy             48.298\n",
      "wlu               depressed         47.528\n",
      "brocku            depressed         45.748\n",
      "queensuniversity  happy             45.202\n",
      "uwaterloo         happy             42.454\n",
      "ryerson           happy             33.657\n",
      "CarletonU         happy             26.465\n",
      "Name: body_sentiment, dtype: float64\n"
     ]
    }
   ],
   "source": [
    "unibodies20 = round(dfa20.groupby(['subreddit'])['body_sentiment'].value_counts(3)*100, 3).sort_values(ascending=False)\n",
    "print (f'{unibodies20}')"
   ]
  },
  {
   "cell_type": "code",
   "execution_count": 21,
   "id": "6d755c9a",
   "metadata": {},
   "outputs": [
    {
     "data": {
      "text/plain": [
       "subreddit         body_sentiment\n",
       "uoguelph          happy             63.664\n",
       "wlu               happy             62.710\n",
       "McMaster          happy             62.275\n",
       "TrentUniversity   happy             62.136\n",
       "queensuniversity  happy             61.730\n",
       "CarletonU         happy             61.479\n",
       "ryerson           happy             61.388\n",
       "brocku            happy             60.458\n",
       "UTM               happy             59.695\n",
       "yorku             happy             59.022\n",
       "UofT              happy             58.896\n",
       "uwaterloo         happy             57.747\n",
       "                  depressed         42.253\n",
       "UofT              depressed         41.104\n",
       "yorku             depressed         40.978\n",
       "UTM               depressed         40.305\n",
       "brocku            depressed         39.542\n",
       "ryerson           depressed         38.612\n",
       "CarletonU         depressed         38.521\n",
       "queensuniversity  depressed         38.270\n",
       "TrentUniversity   depressed         37.864\n",
       "McMaster          depressed         37.725\n",
       "wlu               depressed         37.290\n",
       "uoguelph          depressed         36.336\n",
       "Name: body_sentiment, dtype: float64"
      ]
     },
     "execution_count": 21,
     "metadata": {},
     "output_type": "execute_result"
    }
   ],
   "source": [
    "unicomments19 = round(dfc19.groupby(['subreddit'])['body_sentiment'].value_counts(3)*100, 3)\n",
    "unicomments19.sort_values(ascending=False)"
   ]
  },
  {
   "cell_type": "code",
   "execution_count": 22,
   "id": "5f78190f",
   "metadata": {},
   "outputs": [
    {
     "data": {
      "text/plain": [
       "subreddit         body_sentiment\n",
       "TrentUniversity   happy             65.190\n",
       "brocku            happy             63.384\n",
       "uoguelph          happy             62.512\n",
       "CarletonU         happy             61.856\n",
       "ryerson           happy             61.247\n",
       "wlu               happy             61.098\n",
       "McMaster          happy             60.616\n",
       "queensuniversity  happy             59.114\n",
       "yorku             happy             59.101\n",
       "UTM               happy             59.066\n",
       "uwaterloo         happy             56.333\n",
       "                  depressed         43.667\n",
       "UTM               depressed         40.934\n",
       "yorku             depressed         40.899\n",
       "queensuniversity  depressed         40.886\n",
       "McMaster          depressed         39.384\n",
       "wlu               depressed         38.902\n",
       "ryerson           depressed         38.753\n",
       "CarletonU         depressed         38.144\n",
       "uoguelph          depressed         37.488\n",
       "brocku            depressed         36.616\n",
       "TrentUniversity   depressed         34.810\n",
       "Name: body_sentiment, dtype: float64"
      ]
     },
     "execution_count": 22,
     "metadata": {},
     "output_type": "execute_result"
    }
   ],
   "source": [
    "unicomments20 = round(dfc20.groupby(['subreddit'])['body_sentiment'].value_counts(2)*100, 3)\n",
    "unicomments20.sort_values(ascending=False)"
   ]
  },
  {
   "cell_type": "code",
   "execution_count": 23,
   "id": "5366a744",
   "metadata": {},
   "outputs": [
    {
     "data": {
      "text/plain": [
       "subreddit\n",
       "uwaterloo           45103\n",
       "UofT                38634\n",
       "ryerson             10554\n",
       "yorku               10452\n",
       "McMaster             8591\n",
       "CarletonU            8209\n",
       "queensuniversity     6448\n",
       "wlu                  5343\n",
       "uoguelph             3348\n",
       "UTM                  2107\n",
       "brocku               1394\n",
       "TrentUniversity       602\n",
       "Name: subreddit_subscribers, dtype: int64"
      ]
     },
     "execution_count": 23,
     "metadata": {},
     "output_type": "execute_result"
    }
   ],
   "source": [
    "s19 = dfa19.groupby(['subreddit'])['subreddit_subscribers'].max()\n",
    "s19.sort_values(ascending=False)"
   ]
  },
  {
   "cell_type": "code",
   "execution_count": 24,
   "id": "97c86be9",
   "metadata": {},
   "outputs": [
    {
     "name": "stdout",
     "output_type": "stream",
     "text": [
      "[8209, 8591, 602, 2107, 38634, 1394, 6448, 10554, 3348, 45103, 5343, 10452]\n"
     ]
    }
   ],
   "source": [
    "ss19 = list(s19)\n",
    "print(ss19)"
   ]
  },
  {
   "cell_type": "code",
   "execution_count": 26,
   "id": "e522f153",
   "metadata": {},
   "outputs": [
    {
     "data": {
      "text/plain": [
       "subreddit\n",
       "uwaterloo           64638\n",
       "ryerson             18208\n",
       "yorku               18106\n",
       "McMaster            16219\n",
       "CarletonU           12884\n",
       "queensuniversity    10337\n",
       "wlu                  9421\n",
       "uoguelph             5109\n",
       "UTM                  4479\n",
       "brocku               2148\n",
       "TrentUniversity       951\n",
       "Name: subreddit_subscribers, dtype: int64"
      ]
     },
     "execution_count": 26,
     "metadata": {},
     "output_type": "execute_result"
    }
   ],
   "source": [
    "s20 = dfa20.groupby(['subreddit'])['subreddit_subscribers'].max()\n",
    "s20.sort_values(ascending=False)"
   ]
  },
  {
   "cell_type": "code",
   "execution_count": 25,
   "id": "bd3a7c50",
   "metadata": {},
   "outputs": [
    {
     "data": {
      "image/png": "[encoded data removed]",
      "text/plain": [
       "<Figure size 1152x504 with 1 Axes>"
      ]
     },
     "metadata": {
      "needs_background": "light"
     },
     "output_type": "display_data"
    }
   ],
   "source": [
    "import matplotlib.pyplot as plt\n",
    "fig = plt.figure()\n",
    "ax = fig.add_axes([0,0,1,1])\n",
    "langs = ['CarletonU', 'McMaster', 'TrentUniversity', 'UTM', 'UofT', 'brocku', 'queensuniversity', 'ryerson', 'uoguelph', 'uwaterloo', 'wlu', 'yorku']\n",
    "ax.bar(langs, ss19)\n",
    "fig.set_size_inches(16, 7)\n",
    "plt.show()"
   ]
  },
  {
   "cell_type": "code",
   "execution_count": 55,
   "id": "170f89e3",
   "metadata": {},
   "outputs": [],
   "source": [
    "ch1 = round(depressed_percentat20 - depressed_percentat19, 3)\n",
    "ch2 = round(depressed_percentc20 - depressed_percentc19, 3)"
   ]
  },
  {
   "cell_type": "code",
   "execution_count": 93,
   "id": "3a2a5cc2",
   "metadata": {},
   "outputs": [],
   "source": [
    "unibesta19 = unititles19[-1]\n",
    "uniworsta19 = unititles19[int(len(unititles19)/2)]\n",
    "unibestc19 = unicomments19.sort_values(ascending=False)[-1]\n",
    "uniworstc19 = unicomments19.sort_values(ascending=False)[int(len(unicomments19)/2)]"
   ]
  },
  {
   "cell_type": "code",
   "execution_count": 94,
   "id": "ed7337b7",
   "metadata": {},
   "outputs": [],
   "source": [
    "unibesta20 = unititles20[-1]\n",
    "uniworsta20 = unititles20[int(len(unititles20)/2)]\n",
    "unibestc20 = unicomments20.sort_values(ascending=False)[-1]\n",
    "uniworstc20 = unicomments20.sort_values(ascending=False)[int(len(unicomments20)/2)]"
   ]
  },
  {
   "cell_type": "code",
   "execution_count": 124,
   "id": "2003c55b",
   "metadata": {},
   "outputs": [
    {
     "data": {
      "text/plain": [
       "43.31"
      ]
     },
     "execution_count": 124,
     "metadata": {},
     "output_type": "execute_result"
    }
   ],
   "source": [
    "uninumchange = round((s20.sort_values(ascending=False)[0] - s19.sort_values(ascending=False)[0])/s19.sort_values(ascending=False)[0]*100, 2)\n",
    "uninumchange"
   ]
  },
  {
   "cell_type": "markdown",
   "id": "b72911b0",
   "metadata": {},
   "source": [
    "# Conclusion"
   ]
  },
  {
   "cell_type": "code",
   "execution_count": 136,
   "id": "68bb24da",
   "metadata": {},
   "outputs": [
    {
     "name": "stdout",
     "output_type": "stream",
     "text": [
      "There was an overall increase of \u001b[1m0.741%\u001b[0m in emotionally depressed posts across communities of all universities \n"
     ]
    }
   ],
   "source": [
    "print(f'There was an overall increase of \\033[1m{ch1}%\\033[0m in emotionally depressed posts across communities of all universities ')"
   ]
  },
  {
   "cell_type": "code",
   "execution_count": 135,
   "id": "4c03303c",
   "metadata": {},
   "outputs": [
    {
     "name": "stdout",
     "output_type": "stream",
     "text": [
      "There was an overall increase of \u001b[1m0.977%\u001b[0m in emotionally depressed comments on the posts across communities of all universities \n"
     ]
    }
   ],
   "source": [
    "print(f'There was an overall increase of \\033[1m{ch2}%\\033[0m in emotionally depressed comments on the posts across communities of all universities ')"
   ]
  },
  {
   "cell_type": "code",
   "execution_count": null,
   "id": "9c64efc0",
   "metadata": {},
   "outputs": [],
   "source": []
  },
  {
   "cell_type": "code",
   "execution_count": 137,
   "id": "a2ae4482",
   "metadata": {},
   "outputs": [
    {
     "name": "stdout",
     "output_type": "stream",
     "text": [
      "In 2019 the least emotionally depressed posts were posted in\n",
      "\u001b[1mBrock University as 37.382% \u001b[0mof the total posts\n"
     ]
    }
   ],
   "source": [
    "print(f'In 2019 the least emotionally depressed posts were posted in\\n\\033[1mBrock University as {unibesta19}% \\033[0mof the total posts')"
   ]
  },
  {
   "cell_type": "code",
   "execution_count": 138,
   "id": "b15c9bfd",
   "metadata": {},
   "outputs": [
    {
     "name": "stdout",
     "output_type": "stream",
     "text": [
      "In 2019 the most emotionally depressed posts were posted in\n",
      "\u001b[1mUniversity of Toronto Mississauga as 42.516% \u001b[0mof the total posts\n"
     ]
    }
   ],
   "source": [
    "print(f'In 2019 the most emotionally depressed posts were posted in\\n\\033[1mUniversity of Toronto Mississauga as {uniworsta19}% \\033[0mof the total posts')"
   ]
  },
  {
   "cell_type": "code",
   "execution_count": 139,
   "id": "e18aef83",
   "metadata": {},
   "outputs": [
    {
     "name": "stdout",
     "output_type": "stream",
     "text": [
      "In 2019 the most emotionally depressed interactions took place in\n",
      "\u001b[1mThe University of Waterloo as 42.253% \u001b[0mof the total comments\n"
     ]
    }
   ],
   "source": [
    "print(f'In 2019 the most emotionally depressed interactions took place in\\n\\033[1mThe University of Waterloo as {uniworstc19}% \\033[0mof the total comments')"
   ]
  },
  {
   "cell_type": "code",
   "execution_count": 142,
   "id": "8e1b3247",
   "metadata": {},
   "outputs": [
    {
     "name": "stdout",
     "output_type": "stream",
     "text": [
      "In 2019 the least emotionally depressed interactions took place in\n",
      "\u001b[1mThe University of Gueplh as 36.336% \u001b[0m of the total comments\n"
     ]
    }
   ],
   "source": [
    "print(f'In 2019 the least emotionally depressed interactions took place in\\n\\033[1mThe University of Gueplh as {unibestc19}% \\033[0m of the total comments')"
   ]
  },
  {
   "cell_type": "code",
   "execution_count": null,
   "id": "99b7510f",
   "metadata": {},
   "outputs": [],
   "source": []
  },
  {
   "cell_type": "code",
   "execution_count": 143,
   "id": "2c804126",
   "metadata": {},
   "outputs": [
    {
     "name": "stdout",
     "output_type": "stream",
     "text": [
      "In 2020 the least emotionally depressed posts were posted in\n",
      "\u001b[1mBrock University as 35.273% \u001b[0m of the total posts\n"
     ]
    }
   ],
   "source": [
    "print(f'In 2020 the least emotionally depressed posts were posted in\\n\\033[1mBrock University as {unibesta20}% \\033[0m of the total posts')"
   ]
  },
  {
   "cell_type": "code",
   "execution_count": 144,
   "id": "41a6acdc",
   "metadata": {},
   "outputs": [
    {
     "name": "stdout",
     "output_type": "stream",
     "text": [
      "In 2020 the most emotionally depressed posts were posted in\n",
      "\u001b[1mMcMaster University as 43.516% \u001b[0mof the total posts\n"
     ]
    }
   ],
   "source": [
    "print(f'In 2020 the most emotionally depressed posts were posted in\\n\\033[1mMcMaster University as {uniworsta20}% \\033[0mof the total posts')"
   ]
  },
  {
   "cell_type": "code",
   "execution_count": 145,
   "id": "627678da",
   "metadata": {},
   "outputs": [
    {
     "name": "stdout",
     "output_type": "stream",
     "text": [
      "In 2020 the most emotionally depressed interactions took place in\n",
      "\u001b[1mThe University of Waterloo as 43.667% \u001b[0mof the total comments\n"
     ]
    }
   ],
   "source": [
    "print(f'In 2020 the most emotionally depressed interactions took place in\\n\\033[1mThe University of Waterloo as {uniworstc20}% \\033[0mof the total comments')"
   ]
  },
  {
   "cell_type": "code",
   "execution_count": 146,
   "id": "e3581f71",
   "metadata": {},
   "outputs": [
    {
     "name": "stdout",
     "output_type": "stream",
     "text": [
      "In 2020 the least emotionally depressed interactions took place in\n",
      "\u001b[1mTrent University as 34.81% \u001b[0mof the total comments\n"
     ]
    }
   ],
   "source": [
    "print(f'In 2020 the least emotionally depressed interactions took place in\\n\\033[1mTrent University as {unibestc20}% \\033[0mof the total comments')"
   ]
  },
  {
   "cell_type": "code",
   "execution_count": null,
   "id": "6b7dbbd0",
   "metadata": {},
   "outputs": [],
   "source": []
  },
  {
   "cell_type": "code",
   "execution_count": 149,
   "id": "da14177a",
   "metadata": {},
   "outputs": [
    {
     "name": "stdout",
     "output_type": "stream",
     "text": [
      "Between the years 2020 and 2019, \u001b[1mUniversity of Waterloo\"s\u001b[0m subreddit \n",
      "was observed to get the highest gain in new subscribers with a \u001b[1m43.31% increase\u001b[0m\n"
     ]
    }
   ],
   "source": [
    "print(f'Between the years 2020 and 2019, \\033[1mUniversity of Waterloo\"s\\033[0m subreddit \\nwas observed to get the highest gain in new subscribers with a \\033[1m{uninumchange}% increase\\033[0m')"
   ]
  },
  {
   "cell_type": "code",
   "execution_count": null,
   "id": "13ff745e",
   "metadata": {},
   "outputs": [],
   "source": []
  }
 ],
 "metadata": {
  "kernelspec": {
   "display_name": "conda_python3",
   "language": "python",
   "name": "conda_python3"
  },
  "language_info": {
   "codemirror_mode": {
    "name": "ipython",
    "version": 3
   },
   "file_extension": ".py",
   "mimetype": "text/x-python",
   "name": "python",
   "nbconvert_exporter": "python",
   "pygments_lexer": "ipython3",
   "version": "3.6.13"
  }
 },
 "nbformat": 4,
 "nbformat_minor": 5
}
