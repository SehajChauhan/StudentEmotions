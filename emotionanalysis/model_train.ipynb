{
 "cells": [
  {
   "cell_type": "code",
   "execution_count": 1,
   "id": "685721e0",
   "metadata": {},
   "outputs": [],
   "source": [
    "import os\n",
    "import boto3\n",
    "import re\n",
    "import sagemaker\n",
    "\n",
    "\n",
    "role = sagemaker.get_execution_role()\n",
    "region = boto3.Session().region_name\n",
    "\n",
    "# S3 bucket for training data.\n",
    "# Feel free to specify a different bucket and prefix.\n",
    "data_bucket = f\"convscraper\"\n",
    "data_prefix = \"json\"\n",
    "\n",
    "\n",
    "# S3 bucket for saving code and model artifacts.\n",
    "# Feel free to specify a different bucket and prefix\n",
    "output_bucket = f\"convscraper\"\n",
    "output_prefix = \"notebooks\""
   ]
  },
  {
   "cell_type": "code",
   "execution_count": 2,
   "id": "ca9f91ef",
   "metadata": {},
   "outputs": [],
   "source": [
    "s3 = boto3.client(\"s3\")\n",
    "articles19 = \"2019articles.json\"\n",
    "comments19 = \"2019commenters.json\"\n",
    "articles20 = \"2020articles.json\"\n",
    "comments20 = \"2020commenters.json\"\n",
    "s3.download_file(data_bucket, f\"{data_prefix}/{articles19}\", articles19)\n",
    "s3.download_file(data_bucket, f\"{data_prefix}/{comments19}\", comments19)\n",
    "s3.download_file(data_bucket, f\"{data_prefix}/{articles20}\", articles20)\n",
    "s3.download_file(data_bucket, f\"{data_prefix}/{comments20}\", comments20)\n",
    "\n",
    "modeldata = \"modeldata.csv\"\n",
    "s3.download_file(data_bucket, f\"{data_prefix}/{modeldata}\", modeldata)"
   ]
  },
  {
   "cell_type": "code",
   "execution_count": 3,
   "id": "5f5ffebc",
   "metadata": {},
   "outputs": [],
   "source": [
    "import pandas as pd\n",
    "\n",
    "data = pd.read_csv(modeldata)\n"
   ]
  },
  {
   "cell_type": "code",
   "execution_count": 443,
   "id": "97308bcc",
   "metadata": {},
   "outputs": [],
   "source": [
    "dfa19 = pd.read_json(articles19)\n",
    "dfa20 = pd.read_json(articles20)"
   ]
  },
  {
   "cell_type": "code",
   "execution_count": 257,
   "id": "834f2dec",
   "metadata": {},
   "outputs": [],
   "source": [
    "dfc19 = pd.read_json(comments19)\n",
    "dfc20 = pd.read_json(comments20)"
   ]
  },
  {
   "cell_type": "code",
   "execution_count": 4,
   "id": "4ada742c",
   "metadata": {},
   "outputs": [
    {
     "data": {
      "text/html": [
       "<div>\n",
       "<style scoped>\n",
       "    .dataframe tbody tr th:only-of-type {\n",
       "        vertical-align: middle;\n",
       "    }\n",
       "\n",
       "    .dataframe tbody tr th {\n",
       "        vertical-align: top;\n",
       "    }\n",
       "\n",
       "    .dataframe thead th {\n",
       "        text-align: right;\n",
       "    }\n",
       "</style>\n",
       "<table border=\"1\" class=\"dataframe\">\n",
       "  <thead>\n",
       "    <tr style=\"text-align: right;\">\n",
       "      <th></th>\n",
       "      <th>Unnamed: 0</th>\n",
       "      <th>text</th>\n",
       "      <th>emotions</th>\n",
       "    </tr>\n",
       "  </thead>\n",
       "  <tbody>\n",
       "    <tr>\n",
       "      <th>0</th>\n",
       "      <td>0</td>\n",
       "      <td>i feel awful about it too because it s my job ...</td>\n",
       "      <td>sadness</td>\n",
       "    </tr>\n",
       "    <tr>\n",
       "      <th>1</th>\n",
       "      <td>1</td>\n",
       "      <td>im alone i feel awful</td>\n",
       "      <td>sadness</td>\n",
       "    </tr>\n",
       "    <tr>\n",
       "      <th>2</th>\n",
       "      <td>3</td>\n",
       "      <td>i was feeling a little low few days back</td>\n",
       "      <td>sadness</td>\n",
       "    </tr>\n",
       "    <tr>\n",
       "      <th>3</th>\n",
       "      <td>11</td>\n",
       "      <td>i also feel disillusioned that someone who cla...</td>\n",
       "      <td>sadness</td>\n",
       "    </tr>\n",
       "    <tr>\n",
       "      <th>4</th>\n",
       "      <td>16</td>\n",
       "      <td>i wish you knew every word i write i write for...</td>\n",
       "      <td>sadness</td>\n",
       "    </tr>\n",
       "  </tbody>\n",
       "</table>\n",
       "</div>"
      ],
      "text/plain": [
       "   Unnamed: 0                                               text emotions\n",
       "0           0  i feel awful about it too because it s my job ...  sadness\n",
       "1           1                              im alone i feel awful  sadness\n",
       "2           3           i was feeling a little low few days back  sadness\n",
       "3          11  i also feel disillusioned that someone who cla...  sadness\n",
       "4          16  i wish you knew every word i write i write for...  sadness"
      ]
     },
     "execution_count": 4,
     "metadata": {},
     "output_type": "execute_result"
    }
   ],
   "source": [
    "# Preview Data\n",
    "data.head()"
   ]
  },
  {
   "cell_type": "code",
   "execution_count": 5,
   "id": "73acca5d",
   "metadata": {},
   "outputs": [],
   "source": [
    "# Merge fear and sadness\n",
    "data.loc[data['emotions']=='fear', 'emotions'] = 'sadness'"
   ]
  },
  {
   "cell_type": "code",
   "execution_count": 6,
   "id": "fbc27a6b",
   "metadata": {},
   "outputs": [],
   "source": [
    "# Merge fear and sadness\n",
    "data.loc[data['emotions']=='sadness', 'emotions'] = 'depressed'\n",
    "data.loc[data['emotions']=='joy', 'emotions'] = 'happy'"
   ]
  },
  {
   "cell_type": "code",
   "execution_count": 7,
   "id": "17d1ebd5",
   "metadata": {},
   "outputs": [],
   "source": [
    "# Shuffle up the dataset\n",
    "data = data.sample(frac=1).reset_index(drop=True)"
   ]
  },
  {
   "cell_type": "code",
   "execution_count": 8,
   "id": "4b80814c",
   "metadata": {},
   "outputs": [
    {
     "name": "stdout",
     "output_type": "stream",
     "text": [
      "(141067, 3)\n",
      "(168899, 3)\n"
     ]
    },
    {
     "data": {
      "text/plain": [
       "<AxesSubplot:>"
      ]
     },
     "execution_count": 8,
     "metadata": {},
     "output_type": "execute_result"
    },
    {
     "data": {
      "image/png": "[encoded data removed]",
      "text/plain": [
       "<Figure size 432x288 with 1 Axes>"
      ]
     },
     "metadata": {
      "needs_background": "light"
     },
     "output_type": "display_data"
    }
   ],
   "source": [
    "# Visualize the Samples\n",
    "print(data[data['emotions']=='happy'].shape)\n",
    "print(data[data['emotions']=='depressed'].shape)\n",
    "\n",
    "# Plotting Graph\n",
    "data.emotions.value_counts().plot.bar()"
   ]
  },
  {
   "cell_type": "code",
   "execution_count": 9,
   "id": "4063cee8",
   "metadata": {},
   "outputs": [
    {
     "data": {
      "image/png": "[encoded data removed]",
      "text/plain": [
       "<Figure size 432x288 with 1 Axes>"
      ]
     },
     "metadata": {
      "needs_background": "light"
     },
     "output_type": "display_data"
    },
    {
     "data": {
      "text/plain": [
       "count    309966.000000\n",
       "mean         96.233003\n",
       "std          55.920283\n",
       "min           2.000000\n",
       "25%          53.000000\n",
       "50%          85.000000\n",
       "75%         127.000000\n",
       "max         525.000000\n",
       "dtype: float64"
      ]
     },
     "execution_count": 9,
     "metadata": {},
     "output_type": "execute_result"
    }
   ],
   "source": [
    "import matplotlib.pyplot as plt\n",
    "%matplotlib inline\n",
    "\n",
    "# Analyzing Review Lengths\n",
    "reviews = [len(x) for x in data['text']]\n",
    "pd.Series(reviews).hist()\n",
    "plt.show()\n",
    "\n",
    "# Summarizing the Analysis\n",
    "pd.Series(reviews).describe()"
   ]
  },
  {
   "cell_type": "code",
   "execution_count": 10,
   "id": "bb0f0361",
   "metadata": {},
   "outputs": [],
   "source": [
    "import re\n",
    "\n",
    "# Converting to lower case\n",
    "data['text'] = data['text'].apply(lambda x: x.lower())\n",
    "\n",
    "# Removing Punctuations\n",
    "data['text'] = data['text'].apply((lambda x: re.sub('[^a-zA-z0-9\\s]','',x)))"
   ]
  },
  {
   "cell_type": "code",
   "execution_count": 11,
   "id": "d229cee2",
   "metadata": {},
   "outputs": [
    {
     "name": "stdout",
     "output_type": "stream",
     "text": [
      "Requirement already satisfied: keras in /home/ec2-user/anaconda3/envs/python3/lib/python3.6/site-packages (2.4.3)\n",
      "Requirement already satisfied: scipy>=0.14 in /home/ec2-user/anaconda3/envs/python3/lib/python3.6/site-packages (from keras) (1.5.3)\n",
      "Requirement already satisfied: pyyaml in /home/ec2-user/anaconda3/envs/python3/lib/python3.6/site-packages (from keras) (5.4.1)\n",
      "Requirement already satisfied: h5py in /home/ec2-user/anaconda3/envs/python3/lib/python3.6/site-packages (from keras) (3.1.0)\n",
      "Requirement already satisfied: numpy>=1.9.1 in /home/ec2-user/anaconda3/envs/python3/lib/python3.6/site-packages (from keras) (1.19.5)\n",
      "Requirement already satisfied: cached-property in /home/ec2-user/anaconda3/envs/python3/lib/python3.6/site-packages (from h5py->keras) (1.5.1)\n",
      "Note: you may need to restart the kernel to use updated packages.\n"
     ]
    }
   ],
   "source": [
    "pip install keras"
   ]
  },
  {
   "cell_type": "code",
   "execution_count": 12,
   "id": "133911f4",
   "metadata": {},
   "outputs": [
    {
     "name": "stdout",
     "output_type": "stream",
     "text": [
      "Requirement already satisfied: tensorflow in /home/ec2-user/anaconda3/envs/python3/lib/python3.6/site-packages (2.5.0)\n",
      "Requirement already satisfied: keras-nightly~=2.5.0.dev in /home/ec2-user/anaconda3/envs/python3/lib/python3.6/site-packages (from tensorflow) (2.5.0.dev2021032900)\n",
      "Requirement already satisfied: flatbuffers~=1.12.0 in /home/ec2-user/anaconda3/envs/python3/lib/python3.6/site-packages (from tensorflow) (1.12)\n",
      "Requirement already satisfied: tensorboard~=2.5 in /home/ec2-user/anaconda3/envs/python3/lib/python3.6/site-packages (from tensorflow) (2.5.0)\n",
      "Requirement already satisfied: typing-extensions~=3.7.4 in /home/ec2-user/anaconda3/envs/python3/lib/python3.6/site-packages (from tensorflow) (3.7.4.3)\n",
      "Requirement already satisfied: h5py~=3.1.0 in /home/ec2-user/anaconda3/envs/python3/lib/python3.6/site-packages (from tensorflow) (3.1.0)\n",
      "Requirement already satisfied: google-pasta~=0.2 in /home/ec2-user/anaconda3/envs/python3/lib/python3.6/site-packages (from tensorflow) (0.2.0)\n",
      "Requirement already satisfied: numpy~=1.19.2 in /home/ec2-user/anaconda3/envs/python3/lib/python3.6/site-packages (from tensorflow) (1.19.5)\n",
      "Requirement already satisfied: six~=1.15.0 in /home/ec2-user/anaconda3/envs/python3/lib/python3.6/site-packages (from tensorflow) (1.15.0)\n",
      "Requirement already satisfied: gast==0.4.0 in /home/ec2-user/anaconda3/envs/python3/lib/python3.6/site-packages (from tensorflow) (0.4.0)\n",
      "Requirement already satisfied: tensorflow-estimator<2.6.0,>=2.5.0rc0 in /home/ec2-user/anaconda3/envs/python3/lib/python3.6/site-packages (from tensorflow) (2.5.0)\n",
      "Requirement already satisfied: termcolor~=1.1.0 in /home/ec2-user/anaconda3/envs/python3/lib/python3.6/site-packages (from tensorflow) (1.1.0)\n",
      "Requirement already satisfied: protobuf>=3.9.2 in /home/ec2-user/anaconda3/envs/python3/lib/python3.6/site-packages (from tensorflow) (3.15.2)\n",
      "Requirement already satisfied: keras-preprocessing~=1.1.2 in /home/ec2-user/anaconda3/envs/python3/lib/python3.6/site-packages (from tensorflow) (1.1.2)\n",
      "Requirement already satisfied: absl-py~=0.10 in /home/ec2-user/anaconda3/envs/python3/lib/python3.6/site-packages (from tensorflow) (0.13.0)\n",
      "Requirement already satisfied: astunparse~=1.6.3 in /home/ec2-user/anaconda3/envs/python3/lib/python3.6/site-packages (from tensorflow) (1.6.3)\n",
      "Requirement already satisfied: grpcio~=1.34.0 in /home/ec2-user/anaconda3/envs/python3/lib/python3.6/site-packages (from tensorflow) (1.34.1)\n",
      "Requirement already satisfied: wheel~=0.35 in /home/ec2-user/anaconda3/envs/python3/lib/python3.6/site-packages (from tensorflow) (0.36.2)\n",
      "Requirement already satisfied: opt-einsum~=3.3.0 in /home/ec2-user/anaconda3/envs/python3/lib/python3.6/site-packages (from tensorflow) (3.3.0)\n",
      "Requirement already satisfied: wrapt~=1.12.1 in /home/ec2-user/anaconda3/envs/python3/lib/python3.6/site-packages (from tensorflow) (1.12.1)\n",
      "Requirement already satisfied: cached-property in /home/ec2-user/anaconda3/envs/python3/lib/python3.6/site-packages (from h5py~=3.1.0->tensorflow) (1.5.1)\n",
      "Requirement already satisfied: markdown>=2.6.8 in /home/ec2-user/anaconda3/envs/python3/lib/python3.6/site-packages (from tensorboard~=2.5->tensorflow) (3.3.4)\n",
      "Requirement already satisfied: requests<3,>=2.21.0 in /home/ec2-user/anaconda3/envs/python3/lib/python3.6/site-packages (from tensorboard~=2.5->tensorflow) (2.25.1)\n",
      "Requirement already satisfied: google-auth-oauthlib<0.5,>=0.4.1 in /home/ec2-user/anaconda3/envs/python3/lib/python3.6/site-packages (from tensorboard~=2.5->tensorflow) (0.4.4)\n",
      "Requirement already satisfied: tensorboard-data-server<0.7.0,>=0.6.0 in /home/ec2-user/anaconda3/envs/python3/lib/python3.6/site-packages (from tensorboard~=2.5->tensorflow) (0.6.1)\n",
      "Requirement already satisfied: setuptools>=41.0.0 in /home/ec2-user/anaconda3/envs/python3/lib/python3.6/site-packages (from tensorboard~=2.5->tensorflow) (49.6.0.post20210108)\n",
      "Requirement already satisfied: google-auth<2,>=1.6.3 in /home/ec2-user/anaconda3/envs/python3/lib/python3.6/site-packages (from tensorboard~=2.5->tensorflow) (1.31.0)\n",
      "Requirement already satisfied: tensorboard-plugin-wit>=1.6.0 in /home/ec2-user/anaconda3/envs/python3/lib/python3.6/site-packages (from tensorboard~=2.5->tensorflow) (1.8.0)\n",
      "Requirement already satisfied: werkzeug>=0.11.15 in /home/ec2-user/anaconda3/envs/python3/lib/python3.6/site-packages (from tensorboard~=2.5->tensorflow) (1.0.1)\n",
      "Requirement already satisfied: cachetools<5.0,>=2.0.0 in /home/ec2-user/anaconda3/envs/python3/lib/python3.6/site-packages (from google-auth<2,>=1.6.3->tensorboard~=2.5->tensorflow) (4.2.2)\n",
      "Requirement already satisfied: pyasn1-modules>=0.2.1 in /home/ec2-user/anaconda3/envs/python3/lib/python3.6/site-packages (from google-auth<2,>=1.6.3->tensorboard~=2.5->tensorflow) (0.2.8)\n",
      "Requirement already satisfied: rsa<5,>=3.1.4 in /home/ec2-user/anaconda3/envs/python3/lib/python3.6/site-packages (from google-auth<2,>=1.6.3->tensorboard~=2.5->tensorflow) (4.7.2)\n",
      "Requirement already satisfied: requests-oauthlib>=0.7.0 in /home/ec2-user/anaconda3/envs/python3/lib/python3.6/site-packages (from google-auth-oauthlib<0.5,>=0.4.1->tensorboard~=2.5->tensorflow) (1.3.0)\n",
      "Requirement already satisfied: importlib-metadata in /home/ec2-user/anaconda3/envs/python3/lib/python3.6/site-packages (from markdown>=2.6.8->tensorboard~=2.5->tensorflow) (3.7.0)\n",
      "Requirement already satisfied: pyasn1<0.5.0,>=0.4.6 in /home/ec2-user/anaconda3/envs/python3/lib/python3.6/site-packages (from pyasn1-modules>=0.2.1->google-auth<2,>=1.6.3->tensorboard~=2.5->tensorflow) (0.4.8)\n",
      "Requirement already satisfied: chardet<5,>=3.0.2 in /home/ec2-user/anaconda3/envs/python3/lib/python3.6/site-packages (from requests<3,>=2.21.0->tensorboard~=2.5->tensorflow) (3.0.4)\n",
      "Requirement already satisfied: urllib3<1.27,>=1.21.1 in /home/ec2-user/anaconda3/envs/python3/lib/python3.6/site-packages (from requests<3,>=2.21.0->tensorboard~=2.5->tensorflow) (1.26.4)\n",
      "Requirement already satisfied: certifi>=2017.4.17 in /home/ec2-user/anaconda3/envs/python3/lib/python3.6/site-packages (from requests<3,>=2.21.0->tensorboard~=2.5->tensorflow) (2020.12.5)\n",
      "Requirement already satisfied: idna<3,>=2.5 in /home/ec2-user/anaconda3/envs/python3/lib/python3.6/site-packages (from requests<3,>=2.21.0->tensorboard~=2.5->tensorflow) (2.10)\n",
      "Requirement already satisfied: oauthlib>=3.0.0 in /home/ec2-user/anaconda3/envs/python3/lib/python3.6/site-packages (from requests-oauthlib>=0.7.0->google-auth-oauthlib<0.5,>=0.4.1->tensorboard~=2.5->tensorflow) (3.1.1)\n",
      "Requirement already satisfied: zipp>=0.5 in /home/ec2-user/anaconda3/envs/python3/lib/python3.6/site-packages (from importlib-metadata->markdown>=2.6.8->tensorboard~=2.5->tensorflow) (3.4.0)\n",
      "Note: you may need to restart the kernel to use updated packages.\n"
     ]
    }
   ],
   "source": [
    "pip install tensorflow"
   ]
  },
  {
   "cell_type": "code",
   "execution_count": 13,
   "id": "b792f2ae",
   "metadata": {},
   "outputs": [
    {
     "name": "stdout",
     "output_type": "stream",
     "text": [
      "Requirement already satisfied: pydot in /home/ec2-user/anaconda3/envs/python3/lib/python3.6/site-packages (1.4.2)\n",
      "Requirement already satisfied: pyparsing>=2.1.4 in /home/ec2-user/anaconda3/envs/python3/lib/python3.6/site-packages (from pydot) (2.4.7)\n",
      "Note: you may need to restart the kernel to use updated packages.\n"
     ]
    }
   ],
   "source": [
    "pip install pydot"
   ]
  },
  {
   "cell_type": "code",
   "execution_count": 14,
   "id": "37122ece",
   "metadata": {},
   "outputs": [],
   "source": [
    "from keras.preprocessing.text import Tokenizer\n",
    "from keras.preprocessing.sequence import pad_sequences\n",
    "\n",
    "# Tokenizing the text using in-built function\n",
    "tokenizer = Tokenizer(num_words = 5000, split=' ')\n",
    "tokenizer.fit_on_texts(data['text'].values)\n",
    "\n",
    "# The function map the words to integers, ands also pads the sentences, wherever required  \n",
    "X = tokenizer.texts_to_sequences(data['text'].values)\n",
    "X = pad_sequences(X)"
   ]
  },
  {
   "cell_type": "code",
   "execution_count": 15,
   "id": "b90db7fb",
   "metadata": {},
   "outputs": [],
   "source": [
    "# Encoding the Labels\n",
    "Y = pd.get_dummies(data['emotions']).values"
   ]
  },
  {
   "cell_type": "code",
   "execution_count": 16,
   "id": "df0f4512",
   "metadata": {},
   "outputs": [
    {
     "name": "stdout",
     "output_type": "stream",
     "text": [
      "(185979, 96) (185979, 2)\n",
      "(123987, 96) (123987, 2)\n"
     ]
    }
   ],
   "source": [
    "from sklearn.model_selection import train_test_split\n",
    "\n",
    "# Splitting the Dataset\n",
    "X_train, X_test, Y_train, Y_test = train_test_split(X, Y, test_size = 0.4)\n",
    "print(X_train.shape, Y_train.shape)\n",
    "print(X_test.shape, Y_test.shape)"
   ]
  },
  {
   "cell_type": "code",
   "execution_count": 17,
   "id": "ac7cf7c2",
   "metadata": {},
   "outputs": [
    {
     "name": "stdout",
     "output_type": "stream",
     "text": [
      "Model: \"sequential\"\n",
      "_________________________________________________________________\n",
      "Layer (type)                 Output Shape              Param #   \n",
      "=================================================================\n",
      "embedding (Embedding)        (None, 96, 64)            320000    \n",
      "_________________________________________________________________\n",
      "spatial_dropout1d (SpatialDr (None, 96, 64)            0         \n",
      "_________________________________________________________________\n",
      "lstm (LSTM)                  (None, 64)                33024     \n",
      "_________________________________________________________________\n",
      "dense (Dense)                (None, 2)                 130       \n",
      "=================================================================\n",
      "Total params: 353,154\n",
      "Trainable params: 353,154\n",
      "Non-trainable params: 0\n",
      "_________________________________________________________________\n",
      "None\n"
     ]
    }
   ],
   "source": [
    "from tensorflow import keras\n",
    "from keras.models import Sequential\n",
    "from keras.layers import Dense, Embedding, LSTM, SpatialDropout1D\n",
    "\n",
    "# Defining Model Architecture\n",
    "model = Sequential()\n",
    "\n",
    "model.add(Embedding(5000, 64, input_length = X.shape[1]))\n",
    "model.add(SpatialDropout1D(0.4))\n",
    "\n",
    "model.add(LSTM(64, dropout=0.2, recurrent_dropout=0.2))\n",
    "model.add(Dense(2, activation='softmax'))\n",
    "\n",
    "model.compile(loss = 'categorical_crossentropy', optimizer='adam', metrics = ['accuracy'])\n",
    "print(model.summary())"
   ]
  },
  {
   "cell_type": "code",
   "execution_count": 18,
   "id": "5bb069f7",
   "metadata": {},
   "outputs": [
    {
     "data": {
      "image/png": "[encoded data removed]",
      "text/plain": [
       "<IPython.core.display.Image object>"
      ]
     },
     "execution_count": 18,
     "metadata": {},
     "output_type": "execute_result"
    }
   ],
   "source": [
    "from keras.utils.vis_utils import plot_model\n",
    "\n",
    "# Plotting Model Architecture\n",
    "plot_model(model, to_file='model_plot.png', show_shapes=True, show_layer_names=True)"
   ]
  },
  {
   "cell_type": "code",
   "execution_count": 19,
   "id": "0528c979",
   "metadata": {},
   "outputs": [
    {
     "name": "stdout",
     "output_type": "stream",
     "text": [
      "Epoch 1/3\n",
      "11624/11624 [==============================] - 896s 76ms/step - loss: 0.1304 - accuracy: 0.9384\n",
      "Epoch 2/3\n",
      "11624/11624 [==============================] - 881s 76ms/step - loss: 0.0088 - accuracy: 0.9966\n",
      "Epoch 3/3\n",
      "11624/11624 [==============================] - 879s 76ms/step - loss: 0.0060 - accuracy: 0.9980\n"
     ]
    },
    {
     "data": {
      "text/plain": [
       "<keras.callbacks.History at 0x7ff4d964a710>"
      ]
     },
     "execution_count": 19,
     "metadata": {},
     "output_type": "execute_result"
    }
   ],
   "source": [
    "# Training the Model\n",
    "batch_size = 16\n",
    "model.fit(X_train, Y_train, epochs = 3, batch_size=batch_size, verbose = 1)"
   ]
  },
  {
   "cell_type": "code",
   "execution_count": 20,
   "id": "b4345cd9",
   "metadata": {},
   "outputs": [
    {
     "name": "stdout",
     "output_type": "stream",
     "text": [
      "INFO:tensorflow:Assets written to: model2/assets\n"
     ]
    }
   ],
   "source": [
    "# Saving the Model\n",
    "model.save('model2')"
   ]
  },
  {
   "cell_type": "code",
   "execution_count": 21,
   "id": "d3c9b718",
   "metadata": {},
   "outputs": [],
   "source": [
    "model = keras.models.load_model('model2')"
   ]
  },
  {
   "cell_type": "code",
   "execution_count": 23,
   "id": "47fca6ed",
   "metadata": {},
   "outputs": [],
   "source": [
    "import numpy as np"
   ]
  },
  {
   "cell_type": "code",
   "execution_count": 24,
   "id": "d4bea0f1",
   "metadata": {},
   "outputs": [],
   "source": [
    "# Predicting the Results\n",
    "y_pred = model.predict(X_test)\n",
    "y_pred = np.array([[1 if x > 0.5 else 0 for x in y ] for y in y_pred])"
   ]
  },
  {
   "cell_type": "code",
   "execution_count": 25,
   "id": "cacd18f5",
   "metadata": {},
   "outputs": [
    {
     "data": {
      "image/png": "[encoded data removed]",
      "text/plain": [
       "<Figure size 432x288 with 2 Axes>"
      ]
     },
     "metadata": {
      "needs_background": "light"
     },
     "output_type": "display_data"
    }
   ],
   "source": [
    "import seaborn as sn\n",
    "from sklearn.metrics import confusion_matrix\n",
    "\n",
    "# Confusion Matrix\n",
    "cm = confusion_matrix(Y_test.argmax(axis=1), y_pred.argmax(axis=1))\n",
    "sn.heatmap(cm/np.sum(cm), annot=True, fmt='.2%', cmap='Blues')\n",
    "plt.show()"
   ]
  },
  {
   "cell_type": "code",
   "execution_count": 56,
   "id": "6eb4a3fe",
   "metadata": {},
   "outputs": [
    {
     "name": "stdout",
     "output_type": "stream",
     "text": [
      "Accuracy: 0.9980643131941251\n",
      "F1 Score: 0.9980643131941251\n",
      "AUC ROC: 0.9980114086382833\n",
      "Log Loss: 0.06685625375868992\n"
     ]
    }
   ],
   "source": [
    "from sklearn.metrics import accuracy_score\n",
    "from sklearn.metrics import f1_score\n",
    "from sklearn.metrics import roc_auc_score\n",
    "from sklearn.metrics import log_loss\n",
    "\n",
    "# Performance Measures\n",
    "print(\"Accuracy:\", accuracy_score(Y_test, y_pred))\n",
    "print(\"F1 Score:\", f1_score(Y_test, y_pred, average='micro'))\n",
    "print(\"AUC ROC:\", roc_auc_score(Y_test, y_pred, multi_class='ovr'))\n",
    "print(\"Log Loss:\", log_loss(Y_test, y_pred))"
   ]
  },
  {
   "cell_type": "code",
   "execution_count": 429,
   "id": "34315673",
   "metadata": {},
   "outputs": [],
   "source": [
    "def Predictor(twt):\n",
    "    if twt == '':\n",
    "        return 'null'\n",
    "    else:\n",
    "        twt = tokenizer.texts_to_sequences(twt)\n",
    "        twt = pad_sequences(twt, maxlen = 96, dtype = 'int32', value = 0)\n",
    "        sentiment = model.predict(twt ,batch_size = 1, verbose = 0)[0]\n",
    "        sentiment = [float(i)/sum(sentiment) for i in sentiment]\n",
    "        if (sentiment[0]*100)>65:\n",
    "            return 'depressed'\n",
    "        else:\n",
    "            return 'happy'\n",
    "  #print(f\"Depression: {(sentiment[0]*100)}\")\n",
    "  #print(f\"happiness: {(sentiment[1]*100)}\")"
   ]
  },
  {
   "cell_type": "code",
   "execution_count": 444,
   "id": "f575f11e",
   "metadata": {},
   "outputs": [],
   "source": [
    "dfa19 = dfa19.T\n",
    "dfa20 = dfa20.T"
   ]
  },
  {
   "cell_type": "code",
   "execution_count": 461,
   "id": "9515e776",
   "metadata": {},
   "outputs": [],
   "source": [
    "dfc19 = dfc19.T\n",
    "dfc20 = dfc20.T"
   ]
  },
  {
   "cell_type": "code",
   "execution_count": 445,
   "id": "1882a276",
   "metadata": {},
   "outputs": [
    {
     "data": {
      "text/html": [
       "<div>\n",
       "<style scoped>\n",
       "    .dataframe tbody tr th:only-of-type {\n",
       "        vertical-align: middle;\n",
       "    }\n",
       "\n",
       "    .dataframe tbody tr th {\n",
       "        vertical-align: top;\n",
       "    }\n",
       "\n",
       "    .dataframe thead th {\n",
       "        text-align: right;\n",
       "    }\n",
       "</style>\n",
       "<table border=\"1\" class=\"dataframe\">\n",
       "  <thead>\n",
       "    <tr style=\"text-align: right;\">\n",
       "      <th></th>\n",
       "      <th>author</th>\n",
       "      <th>title</th>\n",
       "      <th>body</th>\n",
       "      <th>url</th>\n",
       "      <th>date_created</th>\n",
       "      <th>subreddit</th>\n",
       "      <th>subreddit_subscribers</th>\n",
       "    </tr>\n",
       "  </thead>\n",
       "  <tbody>\n",
       "    <tr>\n",
       "      <th>c7kizh</th>\n",
       "      <td>bodyaga</td>\n",
       "      <td>My course starts in 2 days and I still don’t k...</td>\n",
       "      <td>I have registered for LAWS 1002 V and for disc...</td>\n",
       "      <td>https://www.reddit.com/r/CarletonU/comments/c7...</td>\n",
       "      <td>1.56193e+09</td>\n",
       "      <td>CarletonU</td>\n",
       "      <td>6808</td>\n",
       "    </tr>\n",
       "    <tr>\n",
       "      <th>c7hpws</th>\n",
       "      <td>swarlypants</td>\n",
       "      <td>OSAP question</td>\n",
       "      <td>Does anyone know what happens to your OSAP if ...</td>\n",
       "      <td>https://www.reddit.com/r/CarletonU/comments/c7...</td>\n",
       "      <td>1.56192e+09</td>\n",
       "      <td>CarletonU</td>\n",
       "      <td>6808</td>\n",
       "    </tr>\n",
       "    <tr>\n",
       "      <th>c7gb3h</th>\n",
       "      <td>NeonNutella</td>\n",
       "      <td>Off campus housing?</td>\n",
       "      <td>Hey! I'll be living with my friend and we're l...</td>\n",
       "      <td>https://www.reddit.com/r/CarletonU/comments/c7...</td>\n",
       "      <td>1.56191e+09</td>\n",
       "      <td>CarletonU</td>\n",
       "      <td>6808</td>\n",
       "    </tr>\n",
       "    <tr>\n",
       "      <th>c7fv1c</th>\n",
       "      <td>lovedoraemon</td>\n",
       "      <td>Gym at carleton?</td>\n",
       "      <td>I will be a full time student living on campus...</td>\n",
       "      <td>https://www.reddit.com/r/CarletonU/comments/c7...</td>\n",
       "      <td>1.56191e+09</td>\n",
       "      <td>CarletonU</td>\n",
       "      <td>6808</td>\n",
       "    </tr>\n",
       "    <tr>\n",
       "      <th>c7ftve</th>\n",
       "      <td>Eternal_Student2024</td>\n",
       "      <td>Which OSAP option for COOP workterm?</td>\n",
       "      <td>So I posted here previously about OSAP and co-...</td>\n",
       "      <td>https://www.reddit.com/r/CarletonU/comments/c7...</td>\n",
       "      <td>1.56191e+09</td>\n",
       "      <td>CarletonU</td>\n",
       "      <td>6808</td>\n",
       "    </tr>\n",
       "  </tbody>\n",
       "</table>\n",
       "</div>"
      ],
      "text/plain": [
       "                     author  \\\n",
       "c7kizh              bodyaga   \n",
       "c7hpws          swarlypants   \n",
       "c7gb3h          NeonNutella   \n",
       "c7fv1c         lovedoraemon   \n",
       "c7ftve  Eternal_Student2024   \n",
       "\n",
       "                                                    title  \\\n",
       "c7kizh  My course starts in 2 days and I still don’t k...   \n",
       "c7hpws                                      OSAP question   \n",
       "c7gb3h                                Off campus housing?   \n",
       "c7fv1c                                   Gym at carleton?   \n",
       "c7ftve               Which OSAP option for COOP workterm?   \n",
       "\n",
       "                                                     body  \\\n",
       "c7kizh  I have registered for LAWS 1002 V and for disc...   \n",
       "c7hpws  Does anyone know what happens to your OSAP if ...   \n",
       "c7gb3h  Hey! I'll be living with my friend and we're l...   \n",
       "c7fv1c  I will be a full time student living on campus...   \n",
       "c7ftve  So I posted here previously about OSAP and co-...   \n",
       "\n",
       "                                                      url date_created  \\\n",
       "c7kizh  https://www.reddit.com/r/CarletonU/comments/c7...  1.56193e+09   \n",
       "c7hpws  https://www.reddit.com/r/CarletonU/comments/c7...  1.56192e+09   \n",
       "c7gb3h  https://www.reddit.com/r/CarletonU/comments/c7...  1.56191e+09   \n",
       "c7fv1c  https://www.reddit.com/r/CarletonU/comments/c7...  1.56191e+09   \n",
       "c7ftve  https://www.reddit.com/r/CarletonU/comments/c7...  1.56191e+09   \n",
       "\n",
       "        subreddit subreddit_subscribers  \n",
       "c7kizh  CarletonU                  6808  \n",
       "c7hpws  CarletonU                  6808  \n",
       "c7gb3h  CarletonU                  6808  \n",
       "c7fv1c  CarletonU                  6808  \n",
       "c7ftve  CarletonU                  6808  "
      ]
     },
     "execution_count": 445,
     "metadata": {},
     "output_type": "execute_result"
    }
   ],
   "source": [
    "dfa19.shape\n",
    "dfa19.head()"
   ]
  },
  {
   "cell_type": "code",
   "execution_count": 446,
   "id": "cb1b3cf0",
   "metadata": {},
   "outputs": [
    {
     "data": {
      "text/html": [
       "<div>\n",
       "<style scoped>\n",
       "    .dataframe tbody tr th:only-of-type {\n",
       "        vertical-align: middle;\n",
       "    }\n",
       "\n",
       "    .dataframe tbody tr th {\n",
       "        vertical-align: top;\n",
       "    }\n",
       "\n",
       "    .dataframe thead th {\n",
       "        text-align: right;\n",
       "    }\n",
       "</style>\n",
       "<table border=\"1\" class=\"dataframe\">\n",
       "  <thead>\n",
       "    <tr style=\"text-align: right;\">\n",
       "      <th></th>\n",
       "      <th>author</th>\n",
       "      <th>title</th>\n",
       "      <th>body</th>\n",
       "      <th>url</th>\n",
       "      <th>date_created</th>\n",
       "      <th>subreddit</th>\n",
       "      <th>subreddit_subscribers</th>\n",
       "    </tr>\n",
       "  </thead>\n",
       "  <tbody>\n",
       "    <tr>\n",
       "      <th>fbl38p</th>\n",
       "      <td>CaptainAaron96</td>\n",
       "      <td>Is there a way to get into Steacie on weekends...</td>\n",
       "      <td></td>\n",
       "      <td>https://www.reddit.com/r/CarletonU/comments/fb...</td>\n",
       "      <td>1.58302e+09</td>\n",
       "      <td>CarletonU</td>\n",
       "      <td>9123</td>\n",
       "    </tr>\n",
       "    <tr>\n",
       "      <th>fbl02w</th>\n",
       "      <td>rianatn</td>\n",
       "      <td>CarletonU or UTM?</td>\n",
       "      <td>[removed]</td>\n",
       "      <td>https://www.reddit.com/r/CarletonU/comments/fb...</td>\n",
       "      <td>1.58302e+09</td>\n",
       "      <td>CarletonU</td>\n",
       "      <td>9123</td>\n",
       "    </tr>\n",
       "    <tr>\n",
       "      <th>fbj38k</th>\n",
       "      <td>Fredditotk</td>\n",
       "      <td>Why is Carleton CS so expensive compared to ot...</td>\n",
       "      <td>https://cudo.ouac.on.ca/page.php?id=7&amp;amp;tabl...</td>\n",
       "      <td>https://www.reddit.com/r/CarletonU/comments/fb...</td>\n",
       "      <td>1.58301e+09</td>\n",
       "      <td>CarletonU</td>\n",
       "      <td>9121</td>\n",
       "    </tr>\n",
       "    <tr>\n",
       "      <th>fbj29z</th>\n",
       "      <td>harveygang</td>\n",
       "      <td>Does CarletonU have an open studies type option?</td>\n",
       "      <td>[removed]</td>\n",
       "      <td>https://www.reddit.com/r/CarletonU/comments/fb...</td>\n",
       "      <td>1.58301e+09</td>\n",
       "      <td>CarletonU</td>\n",
       "      <td>9121</td>\n",
       "    </tr>\n",
       "    <tr>\n",
       "      <th>fbi4sn</th>\n",
       "      <td>CheggAbuser</td>\n",
       "      <td>What was that midterm.....</td>\n",
       "      <td></td>\n",
       "      <td>https://i.redd.it/pblqz1tb5xj41.jpg</td>\n",
       "      <td>1.58301e+09</td>\n",
       "      <td>CarletonU</td>\n",
       "      <td>9120</td>\n",
       "    </tr>\n",
       "  </tbody>\n",
       "</table>\n",
       "</div>"
      ],
      "text/plain": [
       "                author                                              title  \\\n",
       "fbl38p  CaptainAaron96  Is there a way to get into Steacie on weekends...   \n",
       "fbl02w         rianatn                                  CarletonU or UTM?   \n",
       "fbj38k      Fredditotk  Why is Carleton CS so expensive compared to ot...   \n",
       "fbj29z      harveygang   Does CarletonU have an open studies type option?   \n",
       "fbi4sn     CheggAbuser                         What was that midterm.....   \n",
       "\n",
       "                                                     body  \\\n",
       "fbl38p                                                      \n",
       "fbl02w                                          [removed]   \n",
       "fbj38k  https://cudo.ouac.on.ca/page.php?id=7&amp;tabl...   \n",
       "fbj29z                                          [removed]   \n",
       "fbi4sn                                                      \n",
       "\n",
       "                                                      url date_created  \\\n",
       "fbl38p  https://www.reddit.com/r/CarletonU/comments/fb...  1.58302e+09   \n",
       "fbl02w  https://www.reddit.com/r/CarletonU/comments/fb...  1.58302e+09   \n",
       "fbj38k  https://www.reddit.com/r/CarletonU/comments/fb...  1.58301e+09   \n",
       "fbj29z  https://www.reddit.com/r/CarletonU/comments/fb...  1.58301e+09   \n",
       "fbi4sn                https://i.redd.it/pblqz1tb5xj41.jpg  1.58301e+09   \n",
       "\n",
       "        subreddit subreddit_subscribers  \n",
       "fbl38p  CarletonU                  9123  \n",
       "fbl02w  CarletonU                  9123  \n",
       "fbj38k  CarletonU                  9121  \n",
       "fbj29z  CarletonU                  9121  \n",
       "fbi4sn  CarletonU                  9120  "
      ]
     },
     "execution_count": 446,
     "metadata": {},
     "output_type": "execute_result"
    }
   ],
   "source": [
    "dfa20.shape\n",
    "dfa20.head()"
   ]
  },
  {
   "cell_type": "code",
   "execution_count": 467,
   "id": "9bfd7a84",
   "metadata": {},
   "outputs": [
    {
     "data": {
      "text/html": [
       "<div>\n",
       "<style scoped>\n",
       "    .dataframe tbody tr th:only-of-type {\n",
       "        vertical-align: middle;\n",
       "    }\n",
       "\n",
       "    .dataframe tbody tr th {\n",
       "        vertical-align: top;\n",
       "    }\n",
       "\n",
       "    .dataframe thead th {\n",
       "        text-align: right;\n",
       "    }\n",
       "</style>\n",
       "<table border=\"1\" class=\"dataframe\">\n",
       "  <thead>\n",
       "    <tr style=\"text-align: right;\">\n",
       "      <th></th>\n",
       "      <th>article_id</th>\n",
       "      <th>parent_id</th>\n",
       "      <th>author</th>\n",
       "      <th>body</th>\n",
       "      <th>date_created</th>\n",
       "      <th>subreddit</th>\n",
       "      <th>body_sentiment</th>\n",
       "    </tr>\n",
       "  </thead>\n",
       "  <tbody>\n",
       "    <tr>\n",
       "      <th>esfx7zm</th>\n",
       "      <td>t3_c7kizh</td>\n",
       "      <td>t3_c7kizh</td>\n",
       "      <td>CronosDage</td>\n",
       "      <td>It isn't realistic to expect the course to be ...</td>\n",
       "      <td>1.56194e+09</td>\n",
       "      <td>CarletonU</td>\n",
       "      <td>&lt;NA&gt;</td>\n",
       "    </tr>\n",
       "    <tr>\n",
       "      <th>esfwz4u</th>\n",
       "      <td>t3_c7ftve</td>\n",
       "      <td>t3_c7ftve</td>\n",
       "      <td>Thatdoctorperson</td>\n",
       "      <td>If you click the my program isnt listed here b...</td>\n",
       "      <td>1.56194e+09</td>\n",
       "      <td>CarletonU</td>\n",
       "      <td>&lt;NA&gt;</td>\n",
       "    </tr>\n",
       "    <tr>\n",
       "      <th>esfwcbk</th>\n",
       "      <td>t3_c6qgh8</td>\n",
       "      <td>t1_esdsqur</td>\n",
       "      <td>ap_101</td>\n",
       "      <td>Any chance you could pass me the syllabus or s...</td>\n",
       "      <td>1.56194e+09</td>\n",
       "      <td>CarletonU</td>\n",
       "      <td>&lt;NA&gt;</td>\n",
       "    </tr>\n",
       "    <tr>\n",
       "      <th>esfvt9k</th>\n",
       "      <td>t3_c7kizh</td>\n",
       "      <td>t1_esfvszw</td>\n",
       "      <td>nkid299</td>\n",
       "      <td>I like your style : )</td>\n",
       "      <td>1.56194e+09</td>\n",
       "      <td>CarletonU</td>\n",
       "      <td>&lt;NA&gt;</td>\n",
       "    </tr>\n",
       "    <tr>\n",
       "      <th>esfvszw</th>\n",
       "      <td>t3_c7kizh</td>\n",
       "      <td>t3_c7kizh</td>\n",
       "      <td>ap_101</td>\n",
       "      <td>my course still hasnt shown up on culearn but ...</td>\n",
       "      <td>1.56194e+09</td>\n",
       "      <td>CarletonU</td>\n",
       "      <td>&lt;NA&gt;</td>\n",
       "    </tr>\n",
       "  </tbody>\n",
       "</table>\n",
       "</div>"
      ],
      "text/plain": [
       "        article_id   parent_id            author  \\\n",
       "esfx7zm  t3_c7kizh   t3_c7kizh        CronosDage   \n",
       "esfwz4u  t3_c7ftve   t3_c7ftve  Thatdoctorperson   \n",
       "esfwcbk  t3_c6qgh8  t1_esdsqur            ap_101   \n",
       "esfvt9k  t3_c7kizh  t1_esfvszw           nkid299   \n",
       "esfvszw  t3_c7kizh   t3_c7kizh            ap_101   \n",
       "\n",
       "                                                      body date_created  \\\n",
       "esfx7zm  It isn't realistic to expect the course to be ...  1.56194e+09   \n",
       "esfwz4u  If you click the my program isnt listed here b...  1.56194e+09   \n",
       "esfwcbk  Any chance you could pass me the syllabus or s...  1.56194e+09   \n",
       "esfvt9k                              I like your style : )  1.56194e+09   \n",
       "esfvszw  my course still hasnt shown up on culearn but ...  1.56194e+09   \n",
       "\n",
       "         subreddit body_sentiment  \n",
       "esfx7zm  CarletonU           <NA>  \n",
       "esfwz4u  CarletonU           <NA>  \n",
       "esfwcbk  CarletonU           <NA>  \n",
       "esfvt9k  CarletonU           <NA>  \n",
       "esfvszw  CarletonU           <NA>  "
      ]
     },
     "execution_count": 467,
     "metadata": {},
     "output_type": "execute_result"
    }
   ],
   "source": [
    "dfc19.shape\n",
    "dfc19.head()"
   ]
  },
  {
   "cell_type": "code",
   "execution_count": 468,
   "id": "cadc2eaa",
   "metadata": {},
   "outputs": [
    {
     "data": {
      "text/html": [
       "<div>\n",
       "<style scoped>\n",
       "    .dataframe tbody tr th:only-of-type {\n",
       "        vertical-align: middle;\n",
       "    }\n",
       "\n",
       "    .dataframe tbody tr th {\n",
       "        vertical-align: top;\n",
       "    }\n",
       "\n",
       "    .dataframe thead th {\n",
       "        text-align: right;\n",
       "    }\n",
       "</style>\n",
       "<table border=\"1\" class=\"dataframe\">\n",
       "  <thead>\n",
       "    <tr style=\"text-align: right;\">\n",
       "      <th></th>\n",
       "      <th>article_id</th>\n",
       "      <th>parent_id</th>\n",
       "      <th>author</th>\n",
       "      <th>body</th>\n",
       "      <th>date_created</th>\n",
       "      <th>subreddit</th>\n",
       "      <th>body_sentiment</th>\n",
       "    </tr>\n",
       "  </thead>\n",
       "  <tbody>\n",
       "    <tr>\n",
       "      <th>fj4zikp</th>\n",
       "      <td>t3_fatrdq</td>\n",
       "      <td>t3_fatrdq</td>\n",
       "      <td>lama8</td>\n",
       "      <td>Whoever posted this is very white. \n",
       "\n",
       "Most peop...</td>\n",
       "      <td>1.58302e+09</td>\n",
       "      <td>CarletonU</td>\n",
       "      <td>&lt;NA&gt;</td>\n",
       "    </tr>\n",
       "    <tr>\n",
       "      <th>fj4z7m3</th>\n",
       "      <td>t3_fatrdq</td>\n",
       "      <td>t1_fj0g847</td>\n",
       "      <td>pearlescentpink</td>\n",
       "      <td>Sorry, I’m kind of confused by your comment? I...</td>\n",
       "      <td>1.58302e+09</td>\n",
       "      <td>CarletonU</td>\n",
       "      <td>&lt;NA&gt;</td>\n",
       "    </tr>\n",
       "    <tr>\n",
       "      <th>fj4ylue</th>\n",
       "      <td>t3_faz05t</td>\n",
       "      <td>t3_faz05t</td>\n",
       "      <td>pearlescentpink</td>\n",
       "      <td>Talk to your department head and if you’re a P...</td>\n",
       "      <td>1.58302e+09</td>\n",
       "      <td>CarletonU</td>\n",
       "      <td>&lt;NA&gt;</td>\n",
       "    </tr>\n",
       "    <tr>\n",
       "      <th>fj4y1a0</th>\n",
       "      <td>t3_fbhm7l</td>\n",
       "      <td>t3_fbhm7l</td>\n",
       "      <td>pearlescentpink</td>\n",
       "      <td>Loeb is pretty awful for the spring session. E...</td>\n",
       "      <td>1.58302e+09</td>\n",
       "      <td>CarletonU</td>\n",
       "      <td>&lt;NA&gt;</td>\n",
       "    </tr>\n",
       "    <tr>\n",
       "      <th>fj4ug2n</th>\n",
       "      <td>t3_f58ewv</td>\n",
       "      <td>t1_fhz71mj</td>\n",
       "      <td>chien_errant</td>\n",
       "      <td>this helped a lot thank you :)</td>\n",
       "      <td>1.58302e+09</td>\n",
       "      <td>CarletonU</td>\n",
       "      <td>&lt;NA&gt;</td>\n",
       "    </tr>\n",
       "  </tbody>\n",
       "</table>\n",
       "</div>"
      ],
      "text/plain": [
       "        article_id   parent_id           author  \\\n",
       "fj4zikp  t3_fatrdq   t3_fatrdq            lama8   \n",
       "fj4z7m3  t3_fatrdq  t1_fj0g847  pearlescentpink   \n",
       "fj4ylue  t3_faz05t   t3_faz05t  pearlescentpink   \n",
       "fj4y1a0  t3_fbhm7l   t3_fbhm7l  pearlescentpink   \n",
       "fj4ug2n  t3_f58ewv  t1_fhz71mj     chien_errant   \n",
       "\n",
       "                                                      body date_created  \\\n",
       "fj4zikp  Whoever posted this is very white. \n",
       "\n",
       "Most peop...  1.58302e+09   \n",
       "fj4z7m3  Sorry, I’m kind of confused by your comment? I...  1.58302e+09   \n",
       "fj4ylue  Talk to your department head and if you’re a P...  1.58302e+09   \n",
       "fj4y1a0  Loeb is pretty awful for the spring session. E...  1.58302e+09   \n",
       "fj4ug2n                     this helped a lot thank you :)  1.58302e+09   \n",
       "\n",
       "         subreddit body_sentiment  \n",
       "fj4zikp  CarletonU           <NA>  \n",
       "fj4z7m3  CarletonU           <NA>  \n",
       "fj4ylue  CarletonU           <NA>  \n",
       "fj4y1a0  CarletonU           <NA>  \n",
       "fj4ug2n  CarletonU           <NA>  "
      ]
     },
     "execution_count": 468,
     "metadata": {},
     "output_type": "execute_result"
    }
   ],
   "source": [
    "dfc20.shape\n",
    "dfc20.head()"
   ]
  },
  {
   "cell_type": "code",
   "execution_count": 448,
   "id": "eec1f176",
   "metadata": {},
   "outputs": [],
   "source": [
    "dfa19['body'].replace(['[removed]'], '', regex=False, inplace=True)\n",
    "dfa19['body'].replace(['[deleted]'], '', regex=False, inplace=True)\n",
    "\n",
    "\n",
    "dfa20['body'].replace(['[removed]'], '', regex=False, inplace=True)\n",
    "dfa20['body'].replace(['[deleted]'], '', regex=False, inplace=True)"
   ]
  },
  {
   "cell_type": "code",
   "execution_count": 447,
   "id": "c28a01d8",
   "metadata": {},
   "outputs": [
    {
     "data": {
      "text/plain": [
       "author                   0\n",
       "title                    0\n",
       "body                     0\n",
       "url                      0\n",
       "date_created             0\n",
       "subreddit                0\n",
       "subreddit_subscribers    0\n",
       "dtype: int64"
      ]
     },
     "execution_count": 447,
     "metadata": {},
     "output_type": "execute_result"
    }
   ],
   "source": [
    "dfa19.isnull().sum()"
   ]
  },
  {
   "cell_type": "code",
   "execution_count": 266,
   "id": "24ff001a",
   "metadata": {},
   "outputs": [
    {
     "data": {
      "text/plain": [
       "author                       0\n",
       "title                        0\n",
       "body                      8130\n",
       "url                          0\n",
       "date_created                 0\n",
       "subreddit                    0\n",
       "subreddit_subscribers        0\n",
       "title_sentiment          41590\n",
       "body_sentiment           41590\n",
       "dtype: int64"
      ]
     },
     "execution_count": 266,
     "metadata": {},
     "output_type": "execute_result"
    }
   ],
   "source": [
    "dfa20.isnull().sum()"
   ]
  },
  {
   "cell_type": "code",
   "execution_count": 36,
   "id": "2422ca53",
   "metadata": {},
   "outputs": [
    {
     "data": {
      "text/plain": [
       "article_id      0\n",
       "parent_id       0\n",
       "author          0\n",
       "body            0\n",
       "date_created    0\n",
       "subreddit       0\n",
       "dtype: int64"
      ]
     },
     "execution_count": 36,
     "metadata": {},
     "output_type": "execute_result"
    }
   ],
   "source": [
    "dfc19.isnull().sum()"
   ]
  },
  {
   "cell_type": "code",
   "execution_count": 37,
   "id": "85b88952",
   "metadata": {},
   "outputs": [
    {
     "data": {
      "text/plain": [
       "article_id      0\n",
       "parent_id       0\n",
       "author          0\n",
       "body            0\n",
       "date_created    0\n",
       "subreddit       0\n",
       "dtype: int64"
      ]
     },
     "execution_count": 37,
     "metadata": {},
     "output_type": "execute_result"
    }
   ],
   "source": [
    "dfc20.isnull().sum()"
   ]
  },
  {
   "cell_type": "code",
   "execution_count": 449,
   "id": "f3bde838",
   "metadata": {},
   "outputs": [
    {
     "name": "stderr",
     "output_type": "stream",
     "text": [
      "/home/ec2-user/anaconda3/envs/python3/lib/python3.6/site-packages/ipykernel/__main__.py:1: DeprecationWarning: The default dtype for empty Series will be 'object' instead of 'float64' in a future version. Specify a dtype explicitly to silence this warning.\n",
      "  if __name__ == '__main__':\n",
      "/home/ec2-user/anaconda3/envs/python3/lib/python3.6/site-packages/ipykernel/__main__.py:2: DeprecationWarning: The default dtype for empty Series will be 'object' instead of 'float64' in a future version. Specify a dtype explicitly to silence this warning.\n",
      "  from ipykernel import kernelapp as app\n",
      "/home/ec2-user/anaconda3/envs/python3/lib/python3.6/site-packages/ipykernel/__main__.py:3: DeprecationWarning: The default dtype for empty Series will be 'object' instead of 'float64' in a future version. Specify a dtype explicitly to silence this warning.\n",
      "  app.launch_new_instance()\n",
      "/home/ec2-user/anaconda3/envs/python3/lib/python3.6/site-packages/ipykernel/__main__.py:4: DeprecationWarning: The default dtype for empty Series will be 'object' instead of 'float64' in a future version. Specify a dtype explicitly to silence this warning.\n"
     ]
    }
   ],
   "source": [
    "dfa19.loc[:, 'title_sentiment'] = pd.Series()\n",
    "dfa20.loc[:, 'title_sentiment'] = pd.Series()\n",
    "dfa19.loc[:, 'body_sentiment'] = pd.Series()\n",
    "dfa20.loc[:, 'body_sentiment'] = pd.Series()"
   ]
  },
  {
   "cell_type": "code",
   "execution_count": 465,
   "id": "7bf9d5eb",
   "metadata": {},
   "outputs": [
    {
     "name": "stderr",
     "output_type": "stream",
     "text": [
      "/home/ec2-user/anaconda3/envs/python3/lib/python3.6/site-packages/ipykernel/__main__.py:1: DeprecationWarning: The default dtype for empty Series will be 'object' instead of 'float64' in a future version. Specify a dtype explicitly to silence this warning.\n",
      "  if __name__ == '__main__':\n",
      "/home/ec2-user/anaconda3/envs/python3/lib/python3.6/site-packages/ipykernel/__main__.py:2: DeprecationWarning: The default dtype for empty Series will be 'object' instead of 'float64' in a future version. Specify a dtype explicitly to silence this warning.\n",
      "  from ipykernel import kernelapp as app\n"
     ]
    }
   ],
   "source": [
    "dfc19.loc[:, 'body_sentiment'] = pd.Series()\n",
    "dfc20.loc[:, 'body_sentiment'] = pd.Series()"
   ]
  },
  {
   "cell_type": "code",
   "execution_count": 450,
   "id": "e42319ef",
   "metadata": {},
   "outputs": [],
   "source": [
    "dfa19['title_sentiment'] = dfa19['title_sentiment'].astype('string')\n",
    "dfa19['body_sentiment'] = dfa19['body_sentiment'].astype('string')\n",
    "dfa19['title'] = dfa19['title'].astype('string')\n",
    "dfa19['body'] = dfa19['body'].astype('string')\n",
    "\n",
    "dfa20['title_sentiment'] = dfa20['title_sentiment'].astype('string')\n",
    "dfa20['body_sentiment'] = dfa20['body_sentiment'].astype('string')\n",
    "dfa20['title'] = dfa20['title'].astype('string')\n",
    "dfa20['body'] = dfa20['body'].astype('string')"
   ]
  },
  {
   "cell_type": "code",
   "execution_count": 466,
   "id": "085ad8a6",
   "metadata": {},
   "outputs": [],
   "source": [
    "dfc19['body_sentiment'] = dfc19['body_sentiment'].astype('string')\n",
    "dfc19['body'] = dfc19['body'].astype('string')\n",
    "\n",
    "dfc20['body_sentiment'] = dfc20['body_sentiment'].astype('string')\n",
    "dfc20['body'] = dfc20['body'].astype('string')"
   ]
  },
  {
   "cell_type": "code",
   "execution_count": 451,
   "id": "85189d5c",
   "metadata": {},
   "outputs": [
    {
     "name": "stderr",
     "output_type": "stream",
     "text": [
      "100%|██████████| 69396/69396 [36:55<00:00, 31.33it/s]  \n"
     ]
    }
   ],
   "source": [
    "dfa19['title_sentiment'] = dfa19.progress_apply(lambda row: Predictor([row['title']]), axis=1)"
   ]
  },
  {
   "cell_type": "code",
   "execution_count": 452,
   "id": "092f95b7",
   "metadata": {},
   "outputs": [
    {
     "name": "stderr",
     "output_type": "stream",
     "text": [
      "100%|██████████| 41590/41590 [21:30<00:00, 32.23it/s]  \n"
     ]
    }
   ],
   "source": [
    "dfa20['title_sentiment'] = dfa20.progress_apply(lambda row: Predictor([row['title']]), axis=1)"
   ]
  },
  {
   "cell_type": "code",
   "execution_count": 453,
   "id": "cb1dc26c",
   "metadata": {},
   "outputs": [
    {
     "name": "stderr",
     "output_type": "stream",
     "text": [
      "100%|██████████| 69396/69396 [35:15<00:00, 32.81it/s]  \n"
     ]
    }
   ],
   "source": [
    "dfa19['body_sentiment'] = dfa19.progress_apply(lambda row: Predictor([row['body']]), axis=1)"
   ]
  },
  {
   "cell_type": "code",
   "execution_count": 454,
   "id": "86af3e29",
   "metadata": {},
   "outputs": [
    {
     "name": "stderr",
     "output_type": "stream",
     "text": [
      "100%|██████████| 41590/41590 [21:01<00:00, 32.97it/s]  \n"
     ]
    }
   ],
   "source": [
    "dfa20['body_sentiment'] = dfa20.progress_apply(lambda row: Predictor([row['body']]), axis=1)"
   ]
  },
  {
   "cell_type": "code",
   "execution_count": 455,
   "id": "bb262869",
   "metadata": {},
   "outputs": [],
   "source": [
    "dfa19.to_csv('dfa19sentiment.csv')"
   ]
  },
  {
   "cell_type": "code",
   "execution_count": 456,
   "id": "4cfde50e",
   "metadata": {},
   "outputs": [],
   "source": [
    "dfa20.to_csv('dfa20sentiment.csv')"
   ]
  },
  {
   "cell_type": "code",
   "execution_count": 161,
   "id": "25b7f36a",
   "metadata": {},
   "outputs": [
    {
     "name": "stdout",
     "output_type": "stream",
     "text": [
      "Collecting tqdm\n",
      "  Downloading tqdm-4.61.1-py2.py3-none-any.whl (75 kB)\n",
      "\u001b[K     |████████████████████████████████| 75 kB 8.0 MB/s  eta 0:00:01\n",
      "\u001b[?25hInstalling collected packages: tqdm\n",
      "Successfully installed tqdm-4.61.1\n",
      "Note: you may need to restart the kernel to use updated packages.\n"
     ]
    }
   ],
   "source": [
    "pip install tqdm"
   ]
  },
  {
   "cell_type": "code",
   "execution_count": 162,
   "id": "a8843b08",
   "metadata": {},
   "outputs": [],
   "source": [
    "from tqdm import tqdm"
   ]
  },
  {
   "cell_type": "code",
   "execution_count": 348,
   "id": "0ad4eb74",
   "metadata": {},
   "outputs": [],
   "source": [
    "tqdm.pandas()"
   ]
  },
  {
   "cell_type": "code",
   "execution_count": 471,
   "id": "9aae90a0",
   "metadata": {},
   "outputs": [
    {
     "name": "stderr",
     "output_type": "stream",
     "text": [
      "100%|██████████| 364624/364624 [3:22:21<00:00, 30.03it/s]  \n"
     ]
    }
   ],
   "source": [
    "dfc19['body_sentiment'] = dfc19.progress_apply(lambda row: Predictor([row['body']]), axis=1)"
   ]
  },
  {
   "cell_type": "code",
   "execution_count": 472,
   "id": "b67c8a6a",
   "metadata": {},
   "outputs": [],
   "source": [
    "dfc19.to_csv('dfc19sentiment.csv')"
   ]
  },
  {
   "cell_type": "code",
   "execution_count": null,
   "id": "ea612903",
   "metadata": {},
   "outputs": [
    {
     "name": "stderr",
     "output_type": "stream",
     "text": [
      "100%|██████████| 216078/216078 [2:11:40<00:00, 27.35it/s]  \n"
     ]
    }
   ],
   "source": [
    "dfc20['body_sentiment'] = dfc20.progress_apply(lambda row: Predictor([row['body']]), axis=1)"
   ]
  },
  {
   "cell_type": "code",
   "execution_count": 479,
   "id": "3f6e24a4",
   "metadata": {},
   "outputs": [],
   "source": [
    "dfc20.to_csv('dfc20sentiment.csv')"
   ]
  },
  {
   "cell_type": "code",
   "execution_count": 83,
   "id": "ff5a69f2",
   "metadata": {},
   "outputs": [],
   "source": [
    "for i in range (5):\n",
    "  dfa20['title_sentiment'][i] = Predictor([dfa20[\"title\"][i]])"
   ]
  },
  {
   "cell_type": "code",
   "execution_count": 470,
   "id": "47a57ee4",
   "metadata": {},
   "outputs": [
    {
     "data": {
      "text/html": [
       "<div>\n",
       "<style scoped>\n",
       "    .dataframe tbody tr th:only-of-type {\n",
       "        vertical-align: middle;\n",
       "    }\n",
       "\n",
       "    .dataframe tbody tr th {\n",
       "        vertical-align: top;\n",
       "    }\n",
       "\n",
       "    .dataframe thead th {\n",
       "        text-align: right;\n",
       "    }\n",
       "</style>\n",
       "<table border=\"1\" class=\"dataframe\">\n",
       "  <thead>\n",
       "    <tr style=\"text-align: right;\">\n",
       "      <th></th>\n",
       "      <th>article_id</th>\n",
       "      <th>parent_id</th>\n",
       "      <th>author</th>\n",
       "      <th>body</th>\n",
       "      <th>date_created</th>\n",
       "      <th>subreddit</th>\n",
       "      <th>body_sentiment</th>\n",
       "    </tr>\n",
       "  </thead>\n",
       "  <tbody>\n",
       "    <tr>\n",
       "      <th>fj4zikp</th>\n",
       "      <td>t3_fatrdq</td>\n",
       "      <td>t3_fatrdq</td>\n",
       "      <td>lama8</td>\n",
       "      <td>Whoever posted this is very white. \n",
       "\n",
       "Most peop...</td>\n",
       "      <td>1.58302e+09</td>\n",
       "      <td>CarletonU</td>\n",
       "      <td>&lt;NA&gt;</td>\n",
       "    </tr>\n",
       "    <tr>\n",
       "      <th>fj4z7m3</th>\n",
       "      <td>t3_fatrdq</td>\n",
       "      <td>t1_fj0g847</td>\n",
       "      <td>pearlescentpink</td>\n",
       "      <td>Sorry, I’m kind of confused by your comment? I...</td>\n",
       "      <td>1.58302e+09</td>\n",
       "      <td>CarletonU</td>\n",
       "      <td>&lt;NA&gt;</td>\n",
       "    </tr>\n",
       "    <tr>\n",
       "      <th>fj4ylue</th>\n",
       "      <td>t3_faz05t</td>\n",
       "      <td>t3_faz05t</td>\n",
       "      <td>pearlescentpink</td>\n",
       "      <td>Talk to your department head and if you’re a P...</td>\n",
       "      <td>1.58302e+09</td>\n",
       "      <td>CarletonU</td>\n",
       "      <td>&lt;NA&gt;</td>\n",
       "    </tr>\n",
       "    <tr>\n",
       "      <th>fj4y1a0</th>\n",
       "      <td>t3_fbhm7l</td>\n",
       "      <td>t3_fbhm7l</td>\n",
       "      <td>pearlescentpink</td>\n",
       "      <td>Loeb is pretty awful for the spring session. E...</td>\n",
       "      <td>1.58302e+09</td>\n",
       "      <td>CarletonU</td>\n",
       "      <td>&lt;NA&gt;</td>\n",
       "    </tr>\n",
       "    <tr>\n",
       "      <th>fj4ug2n</th>\n",
       "      <td>t3_f58ewv</td>\n",
       "      <td>t1_fhz71mj</td>\n",
       "      <td>chien_errant</td>\n",
       "      <td>this helped a lot thank you :)</td>\n",
       "      <td>1.58302e+09</td>\n",
       "      <td>CarletonU</td>\n",
       "      <td>&lt;NA&gt;</td>\n",
       "    </tr>\n",
       "    <tr>\n",
       "      <th>...</th>\n",
       "      <td>...</td>\n",
       "      <td>...</td>\n",
       "      <td>...</td>\n",
       "      <td>...</td>\n",
       "      <td>...</td>\n",
       "      <td>...</td>\n",
       "      <td>...</td>\n",
       "    </tr>\n",
       "    <tr>\n",
       "      <th>fzxo8ne</th>\n",
       "      <td>t3_i1g17i</td>\n",
       "      <td>t1_fzxo0lz</td>\n",
       "      <td>TunicSauce</td>\n",
       "      <td>The problem is the options that they give me t...</td>\n",
       "      <td>1.59624e+09</td>\n",
       "      <td>yorku</td>\n",
       "      <td>&lt;NA&gt;</td>\n",
       "    </tr>\n",
       "    <tr>\n",
       "      <th>fzxo0lz</th>\n",
       "      <td>t3_i1g17i</td>\n",
       "      <td>t1_fzxn4bo</td>\n",
       "      <td>throwaway23uio</td>\n",
       "      <td>Oh ok, damn. The way u said 8 million, i was l...</td>\n",
       "      <td>1.59624e+09</td>\n",
       "      <td>yorku</td>\n",
       "      <td>&lt;NA&gt;</td>\n",
       "    </tr>\n",
       "    <tr>\n",
       "      <th>fzxnm59</th>\n",
       "      <td>t3_i1g17i</td>\n",
       "      <td>t1_fzxhdeo</td>\n",
       "      <td>TunicSauce</td>\n",
       "      <td>Computer science</td>\n",
       "      <td>1.59624e+09</td>\n",
       "      <td>yorku</td>\n",
       "      <td>&lt;NA&gt;</td>\n",
       "    </tr>\n",
       "    <tr>\n",
       "      <th>fzxnhyu</th>\n",
       "      <td>t3_i1g17i</td>\n",
       "      <td>t1_fzxhdeo</td>\n",
       "      <td>TunicSauce</td>\n",
       "      <td>What I mean is that one Canadian dollar conver...</td>\n",
       "      <td>1.59624e+09</td>\n",
       "      <td>yorku</td>\n",
       "      <td>&lt;NA&gt;</td>\n",
       "    </tr>\n",
       "    <tr>\n",
       "      <th>fzxn4bo</th>\n",
       "      <td>t3_i1g17i</td>\n",
       "      <td>t1_fzxn12p</td>\n",
       "      <td>TunicSauce</td>\n",
       "      <td>About 25K</td>\n",
       "      <td>1.59624e+09</td>\n",
       "      <td>yorku</td>\n",
       "      <td>&lt;NA&gt;</td>\n",
       "    </tr>\n",
       "  </tbody>\n",
       "</table>\n",
       "<p>216078 rows × 7 columns</p>\n",
       "</div>"
      ],
      "text/plain": [
       "        article_id   parent_id           author  \\\n",
       "fj4zikp  t3_fatrdq   t3_fatrdq            lama8   \n",
       "fj4z7m3  t3_fatrdq  t1_fj0g847  pearlescentpink   \n",
       "fj4ylue  t3_faz05t   t3_faz05t  pearlescentpink   \n",
       "fj4y1a0  t3_fbhm7l   t3_fbhm7l  pearlescentpink   \n",
       "fj4ug2n  t3_f58ewv  t1_fhz71mj     chien_errant   \n",
       "...            ...         ...              ...   \n",
       "fzxo8ne  t3_i1g17i  t1_fzxo0lz       TunicSauce   \n",
       "fzxo0lz  t3_i1g17i  t1_fzxn4bo   throwaway23uio   \n",
       "fzxnm59  t3_i1g17i  t1_fzxhdeo       TunicSauce   \n",
       "fzxnhyu  t3_i1g17i  t1_fzxhdeo       TunicSauce   \n",
       "fzxn4bo  t3_i1g17i  t1_fzxn12p       TunicSauce   \n",
       "\n",
       "                                                      body date_created  \\\n",
       "fj4zikp  Whoever posted this is very white. \n",
       "\n",
       "Most peop...  1.58302e+09   \n",
       "fj4z7m3  Sorry, I’m kind of confused by your comment? I...  1.58302e+09   \n",
       "fj4ylue  Talk to your department head and if you’re a P...  1.58302e+09   \n",
       "fj4y1a0  Loeb is pretty awful for the spring session. E...  1.58302e+09   \n",
       "fj4ug2n                     this helped a lot thank you :)  1.58302e+09   \n",
       "...                                                    ...          ...   \n",
       "fzxo8ne  The problem is the options that they give me t...  1.59624e+09   \n",
       "fzxo0lz  Oh ok, damn. The way u said 8 million, i was l...  1.59624e+09   \n",
       "fzxnm59                                   Computer science  1.59624e+09   \n",
       "fzxnhyu  What I mean is that one Canadian dollar conver...  1.59624e+09   \n",
       "fzxn4bo                                          About 25K  1.59624e+09   \n",
       "\n",
       "         subreddit body_sentiment  \n",
       "fj4zikp  CarletonU           <NA>  \n",
       "fj4z7m3  CarletonU           <NA>  \n",
       "fj4ylue  CarletonU           <NA>  \n",
       "fj4y1a0  CarletonU           <NA>  \n",
       "fj4ug2n  CarletonU           <NA>  \n",
       "...            ...            ...  \n",
       "fzxo8ne      yorku           <NA>  \n",
       "fzxo0lz      yorku           <NA>  \n",
       "fzxnm59      yorku           <NA>  \n",
       "fzxnhyu      yorku           <NA>  \n",
       "fzxn4bo      yorku           <NA>  \n",
       "\n",
       "[216078 rows x 7 columns]"
      ]
     },
     "execution_count": 470,
     "metadata": {},
     "output_type": "execute_result"
    }
   ],
   "source": [
    "dfc20"
   ]
  },
  {
   "cell_type": "code",
   "execution_count": 459,
   "id": "508eed4f",
   "metadata": {},
   "outputs": [
    {
     "data": {
      "text/html": [
       "<div>\n",
       "<style scoped>\n",
       "    .dataframe tbody tr th:only-of-type {\n",
       "        vertical-align: middle;\n",
       "    }\n",
       "\n",
       "    .dataframe tbody tr th {\n",
       "        vertical-align: top;\n",
       "    }\n",
       "\n",
       "    .dataframe thead th {\n",
       "        text-align: right;\n",
       "    }\n",
       "</style>\n",
       "<table border=\"1\" class=\"dataframe\">\n",
       "  <thead>\n",
       "    <tr style=\"text-align: right;\">\n",
       "      <th></th>\n",
       "      <th>author</th>\n",
       "      <th>title</th>\n",
       "      <th>body</th>\n",
       "      <th>url</th>\n",
       "      <th>date_created</th>\n",
       "      <th>subreddit</th>\n",
       "      <th>subreddit_subscribers</th>\n",
       "      <th>title_sentiment</th>\n",
       "      <th>body_sentiment</th>\n",
       "    </tr>\n",
       "  </thead>\n",
       "  <tbody>\n",
       "    <tr>\n",
       "      <th>fbl38p</th>\n",
       "      <td>CaptainAaron96</td>\n",
       "      <td>Is there a way to get into Steacie on weekends...</td>\n",
       "      <td></td>\n",
       "      <td>https://www.reddit.com/r/CarletonU/comments/fb...</td>\n",
       "      <td>1.58302e+09</td>\n",
       "      <td>CarletonU</td>\n",
       "      <td>9123</td>\n",
       "      <td>depressed</td>\n",
       "      <td>depressed</td>\n",
       "    </tr>\n",
       "    <tr>\n",
       "      <th>fbl02w</th>\n",
       "      <td>rianatn</td>\n",
       "      <td>CarletonU or UTM?</td>\n",
       "      <td></td>\n",
       "      <td>https://www.reddit.com/r/CarletonU/comments/fb...</td>\n",
       "      <td>1.58302e+09</td>\n",
       "      <td>CarletonU</td>\n",
       "      <td>9123</td>\n",
       "      <td>depressed</td>\n",
       "      <td>depressed</td>\n",
       "    </tr>\n",
       "    <tr>\n",
       "      <th>fbj38k</th>\n",
       "      <td>Fredditotk</td>\n",
       "      <td>Why is Carleton CS so expensive compared to ot...</td>\n",
       "      <td>https://cudo.ouac.on.ca/page.php?id=7&amp;amp;tabl...</td>\n",
       "      <td>https://www.reddit.com/r/CarletonU/comments/fb...</td>\n",
       "      <td>1.58301e+09</td>\n",
       "      <td>CarletonU</td>\n",
       "      <td>9121</td>\n",
       "      <td>depressed</td>\n",
       "      <td>depressed</td>\n",
       "    </tr>\n",
       "    <tr>\n",
       "      <th>fbj29z</th>\n",
       "      <td>harveygang</td>\n",
       "      <td>Does CarletonU have an open studies type option?</td>\n",
       "      <td></td>\n",
       "      <td>https://www.reddit.com/r/CarletonU/comments/fb...</td>\n",
       "      <td>1.58301e+09</td>\n",
       "      <td>CarletonU</td>\n",
       "      <td>9121</td>\n",
       "      <td>happy</td>\n",
       "      <td>depressed</td>\n",
       "    </tr>\n",
       "    <tr>\n",
       "      <th>fbi4sn</th>\n",
       "      <td>CheggAbuser</td>\n",
       "      <td>What was that midterm.....</td>\n",
       "      <td></td>\n",
       "      <td>https://i.redd.it/pblqz1tb5xj41.jpg</td>\n",
       "      <td>1.58301e+09</td>\n",
       "      <td>CarletonU</td>\n",
       "      <td>9120</td>\n",
       "      <td>depressed</td>\n",
       "      <td>depressed</td>\n",
       "    </tr>\n",
       "    <tr>\n",
       "      <th>...</th>\n",
       "      <td>...</td>\n",
       "      <td>...</td>\n",
       "      <td>...</td>\n",
       "      <td>...</td>\n",
       "      <td>...</td>\n",
       "      <td>...</td>\n",
       "      <td>...</td>\n",
       "      <td>...</td>\n",
       "      <td>...</td>\n",
       "    </tr>\n",
       "    <tr>\n",
       "      <th>i1jnwk</th>\n",
       "      <td>canjeyre</td>\n",
       "      <td>Switching from Undeclared to AMPD for Winter?</td>\n",
       "      <td>Heyoh, does anyone know how difficult it is to...</td>\n",
       "      <td>https://www.reddit.com/r/yorku/comments/i1jnwk...</td>\n",
       "      <td>1.59624e+09</td>\n",
       "      <td>yorku</td>\n",
       "      <td>15162</td>\n",
       "      <td>happy</td>\n",
       "      <td>happy</td>\n",
       "    </tr>\n",
       "    <tr>\n",
       "      <th>i1jlgo</th>\n",
       "      <td>yarishua</td>\n",
       "      <td>Look for friends:)</td>\n",
       "      <td>Hi, im going to be attending my first year at ...</td>\n",
       "      <td>https://www.reddit.com/r/yorku/comments/i1jlgo...</td>\n",
       "      <td>1.59624e+09</td>\n",
       "      <td>yorku</td>\n",
       "      <td>15162</td>\n",
       "      <td>happy</td>\n",
       "      <td>happy</td>\n",
       "    </tr>\n",
       "    <tr>\n",
       "      <th>i1izgf</th>\n",
       "      <td>BrutalNasher</td>\n",
       "      <td>Course Enrollment Issue</td>\n",
       "      <td>Hello. When accessing YU Start and trying to u...</td>\n",
       "      <td>https://www.reddit.com/r/yorku/comments/i1izgf...</td>\n",
       "      <td>1.59624e+09</td>\n",
       "      <td>yorku</td>\n",
       "      <td>15162</td>\n",
       "      <td>happy</td>\n",
       "      <td>happy</td>\n",
       "    </tr>\n",
       "    <tr>\n",
       "      <th>i1ixqr</th>\n",
       "      <td>jessicasingh0</td>\n",
       "      <td>Easy HUMA courses?</td>\n",
       "      <td></td>\n",
       "      <td>https://www.reddit.com/r/yorku/comments/i1ixqr...</td>\n",
       "      <td>1.59624e+09</td>\n",
       "      <td>yorku</td>\n",
       "      <td>15162</td>\n",
       "      <td>happy</td>\n",
       "      <td>depressed</td>\n",
       "    </tr>\n",
       "    <tr>\n",
       "      <th>i1ivmq</th>\n",
       "      <td>gigimaexo</td>\n",
       "      <td>Is every single course online for the fall?? E...</td>\n",
       "      <td>I havent seen a straight answer</td>\n",
       "      <td>https://www.reddit.com/r/yorku/comments/i1ivmq...</td>\n",
       "      <td>1.59624e+09</td>\n",
       "      <td>yorku</td>\n",
       "      <td>15162</td>\n",
       "      <td>depressed</td>\n",
       "      <td>happy</td>\n",
       "    </tr>\n",
       "  </tbody>\n",
       "</table>\n",
       "<p>41590 rows × 9 columns</p>\n",
       "</div>"
      ],
      "text/plain": [
       "                author                                              title  \\\n",
       "fbl38p  CaptainAaron96  Is there a way to get into Steacie on weekends...   \n",
       "fbl02w         rianatn                                  CarletonU or UTM?   \n",
       "fbj38k      Fredditotk  Why is Carleton CS so expensive compared to ot...   \n",
       "fbj29z      harveygang   Does CarletonU have an open studies type option?   \n",
       "fbi4sn     CheggAbuser                         What was that midterm.....   \n",
       "...                ...                                                ...   \n",
       "i1jnwk        canjeyre      Switching from Undeclared to AMPD for Winter?   \n",
       "i1jlgo        yarishua                                 Look for friends:)   \n",
       "i1izgf    BrutalNasher                            Course Enrollment Issue   \n",
       "i1ixqr   jessicasingh0                                 Easy HUMA courses?   \n",
       "i1ivmq       gigimaexo  Is every single course online for the fall?? E...   \n",
       "\n",
       "                                                     body  \\\n",
       "fbl38p                                                      \n",
       "fbl02w                                                      \n",
       "fbj38k  https://cudo.ouac.on.ca/page.php?id=7&amp;tabl...   \n",
       "fbj29z                                                      \n",
       "fbi4sn                                                      \n",
       "...                                                   ...   \n",
       "i1jnwk  Heyoh, does anyone know how difficult it is to...   \n",
       "i1jlgo  Hi, im going to be attending my first year at ...   \n",
       "i1izgf  Hello. When accessing YU Start and trying to u...   \n",
       "i1ixqr                                                      \n",
       "i1ivmq                    I havent seen a straight answer   \n",
       "\n",
       "                                                      url date_created  \\\n",
       "fbl38p  https://www.reddit.com/r/CarletonU/comments/fb...  1.58302e+09   \n",
       "fbl02w  https://www.reddit.com/r/CarletonU/comments/fb...  1.58302e+09   \n",
       "fbj38k  https://www.reddit.com/r/CarletonU/comments/fb...  1.58301e+09   \n",
       "fbj29z  https://www.reddit.com/r/CarletonU/comments/fb...  1.58301e+09   \n",
       "fbi4sn                https://i.redd.it/pblqz1tb5xj41.jpg  1.58301e+09   \n",
       "...                                                   ...          ...   \n",
       "i1jnwk  https://www.reddit.com/r/yorku/comments/i1jnwk...  1.59624e+09   \n",
       "i1jlgo  https://www.reddit.com/r/yorku/comments/i1jlgo...  1.59624e+09   \n",
       "i1izgf  https://www.reddit.com/r/yorku/comments/i1izgf...  1.59624e+09   \n",
       "i1ixqr  https://www.reddit.com/r/yorku/comments/i1ixqr...  1.59624e+09   \n",
       "i1ivmq  https://www.reddit.com/r/yorku/comments/i1ivmq...  1.59624e+09   \n",
       "\n",
       "        subreddit subreddit_subscribers title_sentiment body_sentiment  \n",
       "fbl38p  CarletonU                  9123       depressed      depressed  \n",
       "fbl02w  CarletonU                  9123       depressed      depressed  \n",
       "fbj38k  CarletonU                  9121       depressed      depressed  \n",
       "fbj29z  CarletonU                  9121           happy      depressed  \n",
       "fbi4sn  CarletonU                  9120       depressed      depressed  \n",
       "...           ...                   ...             ...            ...  \n",
       "i1jnwk      yorku                 15162           happy          happy  \n",
       "i1jlgo      yorku                 15162           happy          happy  \n",
       "i1izgf      yorku                 15162           happy          happy  \n",
       "i1ixqr      yorku                 15162           happy      depressed  \n",
       "i1ivmq      yorku                 15162       depressed          happy  \n",
       "\n",
       "[41590 rows x 9 columns]"
      ]
     },
     "execution_count": 459,
     "metadata": {},
     "output_type": "execute_result"
    }
   ],
   "source": [
    "dfa20"
   ]
  },
  {
   "cell_type": "code",
   "execution_count": 478,
   "id": "9ca68708",
   "metadata": {},
   "outputs": [
    {
     "data": {
      "text/html": [
       "<div>\n",
       "<style scoped>\n",
       "    .dataframe tbody tr th:only-of-type {\n",
       "        vertical-align: middle;\n",
       "    }\n",
       "\n",
       "    .dataframe tbody tr th {\n",
       "        vertical-align: top;\n",
       "    }\n",
       "\n",
       "    .dataframe thead th {\n",
       "        text-align: right;\n",
       "    }\n",
       "</style>\n",
       "<table border=\"1\" class=\"dataframe\">\n",
       "  <thead>\n",
       "    <tr style=\"text-align: right;\">\n",
       "      <th></th>\n",
       "      <th>article_id</th>\n",
       "      <th>parent_id</th>\n",
       "      <th>author</th>\n",
       "      <th>body</th>\n",
       "      <th>date_created</th>\n",
       "      <th>subreddit</th>\n",
       "      <th>body_sentiment</th>\n",
       "    </tr>\n",
       "  </thead>\n",
       "  <tbody>\n",
       "    <tr>\n",
       "      <th>fzxo8ne</th>\n",
       "      <td>t3_i1g17i</td>\n",
       "      <td>t1_fzxo0lz</td>\n",
       "      <td>TunicSauce</td>\n",
       "      <td>The problem is the options that they give me t...</td>\n",
       "      <td>1.59624e+09</td>\n",
       "      <td>yorku</td>\n",
       "      <td>depressed</td>\n",
       "    </tr>\n",
       "    <tr>\n",
       "      <th>fzxo0lz</th>\n",
       "      <td>t3_i1g17i</td>\n",
       "      <td>t1_fzxn4bo</td>\n",
       "      <td>throwaway23uio</td>\n",
       "      <td>Oh ok, damn. The way u said 8 million, i was l...</td>\n",
       "      <td>1.59624e+09</td>\n",
       "      <td>yorku</td>\n",
       "      <td>happy</td>\n",
       "    </tr>\n",
       "    <tr>\n",
       "      <th>fzxnm59</th>\n",
       "      <td>t3_i1g17i</td>\n",
       "      <td>t1_fzxhdeo</td>\n",
       "      <td>TunicSauce</td>\n",
       "      <td>Computer science</td>\n",
       "      <td>1.59624e+09</td>\n",
       "      <td>yorku</td>\n",
       "      <td>happy</td>\n",
       "    </tr>\n",
       "    <tr>\n",
       "      <th>fzxnhyu</th>\n",
       "      <td>t3_i1g17i</td>\n",
       "      <td>t1_fzxhdeo</td>\n",
       "      <td>TunicSauce</td>\n",
       "      <td>What I mean is that one Canadian dollar conver...</td>\n",
       "      <td>1.59624e+09</td>\n",
       "      <td>yorku</td>\n",
       "      <td>depressed</td>\n",
       "    </tr>\n",
       "    <tr>\n",
       "      <th>fzxn4bo</th>\n",
       "      <td>t3_i1g17i</td>\n",
       "      <td>t1_fzxn12p</td>\n",
       "      <td>TunicSauce</td>\n",
       "      <td>About 25K</td>\n",
       "      <td>1.59624e+09</td>\n",
       "      <td>yorku</td>\n",
       "      <td>depressed</td>\n",
       "    </tr>\n",
       "  </tbody>\n",
       "</table>\n",
       "</div>"
      ],
      "text/plain": [
       "        article_id   parent_id          author  \\\n",
       "fzxo8ne  t3_i1g17i  t1_fzxo0lz      TunicSauce   \n",
       "fzxo0lz  t3_i1g17i  t1_fzxn4bo  throwaway23uio   \n",
       "fzxnm59  t3_i1g17i  t1_fzxhdeo      TunicSauce   \n",
       "fzxnhyu  t3_i1g17i  t1_fzxhdeo      TunicSauce   \n",
       "fzxn4bo  t3_i1g17i  t1_fzxn12p      TunicSauce   \n",
       "\n",
       "                                                      body date_created  \\\n",
       "fzxo8ne  The problem is the options that they give me t...  1.59624e+09   \n",
       "fzxo0lz  Oh ok, damn. The way u said 8 million, i was l...  1.59624e+09   \n",
       "fzxnm59                                   Computer science  1.59624e+09   \n",
       "fzxnhyu  What I mean is that one Canadian dollar conver...  1.59624e+09   \n",
       "fzxn4bo                                          About 25K  1.59624e+09   \n",
       "\n",
       "        subreddit body_sentiment  \n",
       "fzxo8ne     yorku      depressed  \n",
       "fzxo0lz     yorku          happy  \n",
       "fzxnm59     yorku          happy  \n",
       "fzxnhyu     yorku      depressed  \n",
       "fzxn4bo     yorku      depressed  "
      ]
     },
     "execution_count": 478,
     "metadata": {},
     "output_type": "execute_result"
    }
   ],
   "source": [
    "dfc20.tail()"
   ]
  },
  {
   "cell_type": "code",
   "execution_count": null,
   "id": "fd7873a9",
   "metadata": {},
   "outputs": [],
   "source": []
  }
 ],
 "metadata": {
  "kernelspec": {
   "display_name": "conda_python3",
   "language": "python",
   "name": "conda_python3"
  },
  "language_info": {
   "codemirror_mode": {
    "name": "ipython",
    "version": 3
   },
   "file_extension": ".py",
   "mimetype": "text/x-python",
   "name": "python",
   "nbconvert_exporter": "python",
   "pygments_lexer": "ipython3",
   "version": "3.6.13"
  }
 },
 "nbformat": 4,
 "nbformat_minor": 5
}
